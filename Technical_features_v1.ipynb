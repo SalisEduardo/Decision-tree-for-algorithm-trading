{
 "metadata": {
  "language_info": {
   "codemirror_mode": {
    "name": "ipython",
    "version": 3
   },
   "file_extension": ".py",
   "mimetype": "text/x-python",
   "name": "python",
   "nbconvert_exporter": "python",
   "pygments_lexer": "ipython3",
   "version": "3.8.5"
  },
  "orig_nbformat": 2,
  "kernelspec": {
   "name": "python385jvsc74a57bd04b41f1d7901c245d236e028006d52e8373fd7c96b9ffb251bc24e32ccdfcdcfe",
   "display_name": "Python 3.8.5 64-bit ('base': conda)"
  }
 },
 "nbformat": 4,
 "nbformat_minor": 2,
 "cells": [
  {
   "cell_type": "code",
   "execution_count": 76,
   "metadata": {},
   "outputs": [],
   "source": [
    "# Libraries\n",
    "import pandas as pd\n",
    "from pandas_datareader import data as web\n",
    "import numpy as np\n",
    "from datetime import datetime\n",
    "from time import  sleep\n",
    "import talib"
   ]
  },
  {
   "cell_type": "code",
   "execution_count": 77,
   "metadata": {},
   "outputs": [],
   "source": [
    "df= pd.read_csv(\"bova11_pure.csv\",index_col=0)"
   ]
  },
  {
   "cell_type": "code",
   "execution_count": 78,
   "metadata": {},
   "outputs": [
    {
     "output_type": "execute_result",
     "data": {
      "text/plain": [
       "              open    high     low   close  adjusted close   volume  \\\n",
       "2010-01-04   68.55   69.45   68.30   69.37           69.37   168379   \n",
       "2010-01-05   69.46   70.03   69.32   69.90           69.90   179175   \n",
       "2010-01-06   69.74   70.32   69.70   70.30           70.30   187683   \n",
       "2010-01-07   69.52   70.13   69.52   70.00           70.00   105126   \n",
       "2010-01-08   69.41   70.00   69.31   69.48           69.48   177077   \n",
       "...            ...     ...     ...     ...             ...      ...   \n",
       "2021-05-25  119.89  119.97  118.05  118.40          118.40  5697654   \n",
       "2021-05-26  118.94  119.58  118.79  119.24          119.24  4716894   \n",
       "2021-05-27  119.46  119.83  118.79  119.59          119.59  6038746   \n",
       "2021-05-28  119.75  120.89  119.53  120.72          120.72  5991423   \n",
       "2021-05-31  120.84  121.25  120.28  121.25          121.25  4707495   \n",
       "\n",
       "            dividend amount  split coefficient  \n",
       "2010-01-04              0.0                1.0  \n",
       "2010-01-05              0.0                1.0  \n",
       "2010-01-06              0.0                1.0  \n",
       "2010-01-07              0.0                1.0  \n",
       "2010-01-08              0.0                1.0  \n",
       "...                     ...                ...  \n",
       "2021-05-25              0.0                1.0  \n",
       "2021-05-26              0.0                1.0  \n",
       "2021-05-27              0.0                1.0  \n",
       "2021-05-28              0.0                1.0  \n",
       "2021-05-31              0.0                1.0  \n",
       "\n",
       "[2819 rows x 8 columns]"
      ],
      "text/html": "<div>\n<style scoped>\n    .dataframe tbody tr th:only-of-type {\n        vertical-align: middle;\n    }\n\n    .dataframe tbody tr th {\n        vertical-align: top;\n    }\n\n    .dataframe thead th {\n        text-align: right;\n    }\n</style>\n<table border=\"1\" class=\"dataframe\">\n  <thead>\n    <tr style=\"text-align: right;\">\n      <th></th>\n      <th>open</th>\n      <th>high</th>\n      <th>low</th>\n      <th>close</th>\n      <th>adjusted close</th>\n      <th>volume</th>\n      <th>dividend amount</th>\n      <th>split coefficient</th>\n    </tr>\n  </thead>\n  <tbody>\n    <tr>\n      <th>2010-01-04</th>\n      <td>68.55</td>\n      <td>69.45</td>\n      <td>68.30</td>\n      <td>69.37</td>\n      <td>69.37</td>\n      <td>168379</td>\n      <td>0.0</td>\n      <td>1.0</td>\n    </tr>\n    <tr>\n      <th>2010-01-05</th>\n      <td>69.46</td>\n      <td>70.03</td>\n      <td>69.32</td>\n      <td>69.90</td>\n      <td>69.90</td>\n      <td>179175</td>\n      <td>0.0</td>\n      <td>1.0</td>\n    </tr>\n    <tr>\n      <th>2010-01-06</th>\n      <td>69.74</td>\n      <td>70.32</td>\n      <td>69.70</td>\n      <td>70.30</td>\n      <td>70.30</td>\n      <td>187683</td>\n      <td>0.0</td>\n      <td>1.0</td>\n    </tr>\n    <tr>\n      <th>2010-01-07</th>\n      <td>69.52</td>\n      <td>70.13</td>\n      <td>69.52</td>\n      <td>70.00</td>\n      <td>70.00</td>\n      <td>105126</td>\n      <td>0.0</td>\n      <td>1.0</td>\n    </tr>\n    <tr>\n      <th>2010-01-08</th>\n      <td>69.41</td>\n      <td>70.00</td>\n      <td>69.31</td>\n      <td>69.48</td>\n      <td>69.48</td>\n      <td>177077</td>\n      <td>0.0</td>\n      <td>1.0</td>\n    </tr>\n    <tr>\n      <th>...</th>\n      <td>...</td>\n      <td>...</td>\n      <td>...</td>\n      <td>...</td>\n      <td>...</td>\n      <td>...</td>\n      <td>...</td>\n      <td>...</td>\n    </tr>\n    <tr>\n      <th>2021-05-25</th>\n      <td>119.89</td>\n      <td>119.97</td>\n      <td>118.05</td>\n      <td>118.40</td>\n      <td>118.40</td>\n      <td>5697654</td>\n      <td>0.0</td>\n      <td>1.0</td>\n    </tr>\n    <tr>\n      <th>2021-05-26</th>\n      <td>118.94</td>\n      <td>119.58</td>\n      <td>118.79</td>\n      <td>119.24</td>\n      <td>119.24</td>\n      <td>4716894</td>\n      <td>0.0</td>\n      <td>1.0</td>\n    </tr>\n    <tr>\n      <th>2021-05-27</th>\n      <td>119.46</td>\n      <td>119.83</td>\n      <td>118.79</td>\n      <td>119.59</td>\n      <td>119.59</td>\n      <td>6038746</td>\n      <td>0.0</td>\n      <td>1.0</td>\n    </tr>\n    <tr>\n      <th>2021-05-28</th>\n      <td>119.75</td>\n      <td>120.89</td>\n      <td>119.53</td>\n      <td>120.72</td>\n      <td>120.72</td>\n      <td>5991423</td>\n      <td>0.0</td>\n      <td>1.0</td>\n    </tr>\n    <tr>\n      <th>2021-05-31</th>\n      <td>120.84</td>\n      <td>121.25</td>\n      <td>120.28</td>\n      <td>121.25</td>\n      <td>121.25</td>\n      <td>4707495</td>\n      <td>0.0</td>\n      <td>1.0</td>\n    </tr>\n  </tbody>\n</table>\n<p>2819 rows × 8 columns</p>\n</div>"
     },
     "metadata": {},
     "execution_count": 78
    }
   ],
   "source": [
    "df"
   ]
  },
  {
   "source": [
    "### RSI: Relative Index Strength\n",
    "$RSI = 100 - [\\frac{100}{1+ RS}]$\n",
    "\n",
    "$RS = \\frac{AVg Gain}{AVg Loss}$\n",
    "\n",
    "obs: over n periods"
   ],
   "cell_type": "markdown",
   "metadata": {}
  },
  {
   "cell_type": "code",
   "execution_count": 79,
   "metadata": {},
   "outputs": [
    {
     "output_type": "execute_result",
     "data": {
      "text/plain": [
       "'\\ndef calc_RSI(price,n=14):\\n    rets = price.pct_change()\\n    up =[]\\n    down= []\\n    for i in rets: \\n        if i > 0:\\n            up.append(i)\\n        else:\\n            up.append(0)\\n    for i in rets: \\n        if i < 0:\\n            down.append(i)\\n        else:\\n            down.append(0)\\n\\n            \\n    up = pd.Series(np.array(up))\\n    down = pd.Series(np.array(down))\\n    avg_up = up.rolling(window=n).mean()\\n    avg_down  = down.rolling(window=n).mean().abs()\\n    RS = avg_up/avg_down\\n    rsi = 100.0 - (100.0 / (1.0 + RS))\\n    return rsi\\n\\n'"
      ]
     },
     "metadata": {},
     "execution_count": 79
    }
   ],
   "source": [
    "'''\n",
    "def calc_RSI(price,n=14):\n",
    "    rets = price.pct_change()\n",
    "    up =[]\n",
    "    down= []\n",
    "    for i in rets: \n",
    "        if i > 0:\n",
    "            up.append(i)\n",
    "        else:\n",
    "            up.append(0)\n",
    "    for i in rets: \n",
    "        if i < 0:\n",
    "            down.append(i)\n",
    "        else:\n",
    "            down.append(0)\n",
    "\n",
    "            \n",
    "    up = pd.Series(np.array(up))\n",
    "    down = pd.Series(np.array(down))\n",
    "    avg_up = up.rolling(window=n).mean()\n",
    "    avg_down  = down.rolling(window=n).mean().abs()\n",
    "    RS = avg_up/avg_down\n",
    "    rsi = 100.0 - (100.0 / (1.0 + RS))\n",
    "    return rsi\n",
    "\n",
    "'''"
   ]
  },
  {
   "cell_type": "code",
   "execution_count": 80,
   "metadata": {},
   "outputs": [],
   "source": [
    "#calc_RSI(df['BOVA11.SAO'][\"adjusted close\"])"
   ]
  },
  {
   "cell_type": "code",
   "execution_count": 81,
   "metadata": {},
   "outputs": [],
   "source": [
    "rsi_14 = talib.RSI(df[\"adjusted close\"], timeperiod=14)"
   ]
  },
  {
   "cell_type": "code",
   "execution_count": 82,
   "metadata": {},
   "outputs": [
    {
     "output_type": "execute_result",
     "data": {
      "text/plain": [
       "2010-01-04          NaN\n",
       "2010-01-05          NaN\n",
       "2010-01-06          NaN\n",
       "2010-01-07          NaN\n",
       "2010-01-08          NaN\n",
       "                ...    \n",
       "2021-05-25    58.676499\n",
       "2021-05-26    61.523545\n",
       "2021-05-27    62.677378\n",
       "2021-05-28    66.201422\n",
       "2021-05-31    67.739987\n",
       "Length: 2819, dtype: float64"
      ]
     },
     "metadata": {},
     "execution_count": 82
    }
   ],
   "source": [
    "rsi_14"
   ]
  },
  {
   "source": [
    "Stochatic oscilator:\n",
    "\n",
    "$STO_t =\\frac{C_t - L_n}{H_n-L_n} *100$"
   ],
   "cell_type": "markdown",
   "metadata": {}
  },
  {
   "cell_type": "code",
   "execution_count": 83,
   "metadata": {},
   "outputs": [],
   "source": [
    "minimum, maximum = talib.MINMAX(df[\"adjusted close\"], timeperiod=14)"
   ]
  },
  {
   "cell_type": "code",
   "execution_count": 84,
   "metadata": {},
   "outputs": [],
   "source": [
    "sto =(df[\"adjusted close\"] - minimum)/(maximum - minimum) * 100"
   ]
  },
  {
   "source": [
    "### Chaikin Oscilator (CHO)\n",
    "\n",
    "$\\frac{A}{D_i}= \\frac{(Close-Low) - (High-Close)}{(High - Low)} * Volume - \\frac{A}{D_(i-1)}$\n",
    "\n",
    "$CHO = EMA(A/D,3) - EMA(A/D,10)$\n",
    "\n",
    "EMA: EMA(A/D, n) is a n-periodic exponential moving average of the A/D indicator\n",
    "\n",
    "\n",
    "\n"
   ],
   "cell_type": "markdown",
   "metadata": {}
  },
  {
   "cell_type": "code",
   "execution_count": 85,
   "metadata": {},
   "outputs": [],
   "source": [
    "cho = talib.ADOSC(df[\"high\"],df[\"low\"],df[\"adjusted close\"],df[\"volume\"],fastperiod=3, slowperiod=10)"
   ]
  },
  {
   "source": [
    "## Adding the Technical Analysis indicators"
   ],
   "cell_type": "markdown",
   "metadata": {}
  },
  {
   "cell_type": "code",
   "execution_count": 86,
   "metadata": {},
   "outputs": [],
   "source": [
    "df_copy = df.copy()"
   ]
  },
  {
   "cell_type": "code",
   "execution_count": 87,
   "metadata": {},
   "outputs": [
    {
     "output_type": "execute_result",
     "data": {
      "text/plain": [
       "             open   high    low  close  adjusted close  volume  \\\n",
       "2010-01-04  68.55  69.45  68.30  69.37           69.37  168379   \n",
       "2010-01-05  69.46  70.03  69.32  69.90           69.90  179175   \n",
       "2010-01-06  69.74  70.32  69.70  70.30           70.30  187683   \n",
       "2010-01-07  69.52  70.13  69.52  70.00           70.00  105126   \n",
       "2010-01-08  69.41  70.00  69.31  69.48           69.48  177077   \n",
       "\n",
       "            dividend amount  split coefficient  \n",
       "2010-01-04              0.0                1.0  \n",
       "2010-01-05              0.0                1.0  \n",
       "2010-01-06              0.0                1.0  \n",
       "2010-01-07              0.0                1.0  \n",
       "2010-01-08              0.0                1.0  "
      ],
      "text/html": "<div>\n<style scoped>\n    .dataframe tbody tr th:only-of-type {\n        vertical-align: middle;\n    }\n\n    .dataframe tbody tr th {\n        vertical-align: top;\n    }\n\n    .dataframe thead th {\n        text-align: right;\n    }\n</style>\n<table border=\"1\" class=\"dataframe\">\n  <thead>\n    <tr style=\"text-align: right;\">\n      <th></th>\n      <th>open</th>\n      <th>high</th>\n      <th>low</th>\n      <th>close</th>\n      <th>adjusted close</th>\n      <th>volume</th>\n      <th>dividend amount</th>\n      <th>split coefficient</th>\n    </tr>\n  </thead>\n  <tbody>\n    <tr>\n      <th>2010-01-04</th>\n      <td>68.55</td>\n      <td>69.45</td>\n      <td>68.30</td>\n      <td>69.37</td>\n      <td>69.37</td>\n      <td>168379</td>\n      <td>0.0</td>\n      <td>1.0</td>\n    </tr>\n    <tr>\n      <th>2010-01-05</th>\n      <td>69.46</td>\n      <td>70.03</td>\n      <td>69.32</td>\n      <td>69.90</td>\n      <td>69.90</td>\n      <td>179175</td>\n      <td>0.0</td>\n      <td>1.0</td>\n    </tr>\n    <tr>\n      <th>2010-01-06</th>\n      <td>69.74</td>\n      <td>70.32</td>\n      <td>69.70</td>\n      <td>70.30</td>\n      <td>70.30</td>\n      <td>187683</td>\n      <td>0.0</td>\n      <td>1.0</td>\n    </tr>\n    <tr>\n      <th>2010-01-07</th>\n      <td>69.52</td>\n      <td>70.13</td>\n      <td>69.52</td>\n      <td>70.00</td>\n      <td>70.00</td>\n      <td>105126</td>\n      <td>0.0</td>\n      <td>1.0</td>\n    </tr>\n    <tr>\n      <th>2010-01-08</th>\n      <td>69.41</td>\n      <td>70.00</td>\n      <td>69.31</td>\n      <td>69.48</td>\n      <td>69.48</td>\n      <td>177077</td>\n      <td>0.0</td>\n      <td>1.0</td>\n    </tr>\n  </tbody>\n</table>\n</div>"
     },
     "metadata": {},
     "execution_count": 87
    }
   ],
   "source": [
    "df_copy.head()"
   ]
  },
  {
   "cell_type": "code",
   "execution_count": 88,
   "metadata": {},
   "outputs": [
    {
     "output_type": "execute_result",
     "data": {
      "text/plain": [
       "              open    high     low   close  adjusted close   volume  \\\n",
       "2010-01-04   68.55   69.45   68.30   69.37           69.37   168379   \n",
       "2010-01-05   69.46   70.03   69.32   69.90           69.90   179175   \n",
       "2010-01-06   69.74   70.32   69.70   70.30           70.30   187683   \n",
       "2010-01-07   69.52   70.13   69.52   70.00           70.00   105126   \n",
       "2010-01-08   69.41   70.00   69.31   69.48           69.48   177077   \n",
       "...            ...     ...     ...     ...             ...      ...   \n",
       "2021-05-25  119.89  119.97  118.05  118.40          118.40  5697654   \n",
       "2021-05-26  118.94  119.58  118.79  119.24          119.24  4716894   \n",
       "2021-05-27  119.46  119.83  118.79  119.59          119.59  6038746   \n",
       "2021-05-28  119.75  120.89  119.53  120.72          120.72  5991423   \n",
       "2021-05-31  120.84  121.25  120.28  121.25          121.25  4707495   \n",
       "\n",
       "            dividend amount  split coefficient  \n",
       "2010-01-04              0.0                1.0  \n",
       "2010-01-05              0.0                1.0  \n",
       "2010-01-06              0.0                1.0  \n",
       "2010-01-07              0.0                1.0  \n",
       "2010-01-08              0.0                1.0  \n",
       "...                     ...                ...  \n",
       "2021-05-25              0.0                1.0  \n",
       "2021-05-26              0.0                1.0  \n",
       "2021-05-27              0.0                1.0  \n",
       "2021-05-28              0.0                1.0  \n",
       "2021-05-31              0.0                1.0  \n",
       "\n",
       "[2819 rows x 8 columns]"
      ],
      "text/html": "<div>\n<style scoped>\n    .dataframe tbody tr th:only-of-type {\n        vertical-align: middle;\n    }\n\n    .dataframe tbody tr th {\n        vertical-align: top;\n    }\n\n    .dataframe thead th {\n        text-align: right;\n    }\n</style>\n<table border=\"1\" class=\"dataframe\">\n  <thead>\n    <tr style=\"text-align: right;\">\n      <th></th>\n      <th>open</th>\n      <th>high</th>\n      <th>low</th>\n      <th>close</th>\n      <th>adjusted close</th>\n      <th>volume</th>\n      <th>dividend amount</th>\n      <th>split coefficient</th>\n    </tr>\n  </thead>\n  <tbody>\n    <tr>\n      <th>2010-01-04</th>\n      <td>68.55</td>\n      <td>69.45</td>\n      <td>68.30</td>\n      <td>69.37</td>\n      <td>69.37</td>\n      <td>168379</td>\n      <td>0.0</td>\n      <td>1.0</td>\n    </tr>\n    <tr>\n      <th>2010-01-05</th>\n      <td>69.46</td>\n      <td>70.03</td>\n      <td>69.32</td>\n      <td>69.90</td>\n      <td>69.90</td>\n      <td>179175</td>\n      <td>0.0</td>\n      <td>1.0</td>\n    </tr>\n    <tr>\n      <th>2010-01-06</th>\n      <td>69.74</td>\n      <td>70.32</td>\n      <td>69.70</td>\n      <td>70.30</td>\n      <td>70.30</td>\n      <td>187683</td>\n      <td>0.0</td>\n      <td>1.0</td>\n    </tr>\n    <tr>\n      <th>2010-01-07</th>\n      <td>69.52</td>\n      <td>70.13</td>\n      <td>69.52</td>\n      <td>70.00</td>\n      <td>70.00</td>\n      <td>105126</td>\n      <td>0.0</td>\n      <td>1.0</td>\n    </tr>\n    <tr>\n      <th>2010-01-08</th>\n      <td>69.41</td>\n      <td>70.00</td>\n      <td>69.31</td>\n      <td>69.48</td>\n      <td>69.48</td>\n      <td>177077</td>\n      <td>0.0</td>\n      <td>1.0</td>\n    </tr>\n    <tr>\n      <th>...</th>\n      <td>...</td>\n      <td>...</td>\n      <td>...</td>\n      <td>...</td>\n      <td>...</td>\n      <td>...</td>\n      <td>...</td>\n      <td>...</td>\n    </tr>\n    <tr>\n      <th>2021-05-25</th>\n      <td>119.89</td>\n      <td>119.97</td>\n      <td>118.05</td>\n      <td>118.40</td>\n      <td>118.40</td>\n      <td>5697654</td>\n      <td>0.0</td>\n      <td>1.0</td>\n    </tr>\n    <tr>\n      <th>2021-05-26</th>\n      <td>118.94</td>\n      <td>119.58</td>\n      <td>118.79</td>\n      <td>119.24</td>\n      <td>119.24</td>\n      <td>4716894</td>\n      <td>0.0</td>\n      <td>1.0</td>\n    </tr>\n    <tr>\n      <th>2021-05-27</th>\n      <td>119.46</td>\n      <td>119.83</td>\n      <td>118.79</td>\n      <td>119.59</td>\n      <td>119.59</td>\n      <td>6038746</td>\n      <td>0.0</td>\n      <td>1.0</td>\n    </tr>\n    <tr>\n      <th>2021-05-28</th>\n      <td>119.75</td>\n      <td>120.89</td>\n      <td>119.53</td>\n      <td>120.72</td>\n      <td>120.72</td>\n      <td>5991423</td>\n      <td>0.0</td>\n      <td>1.0</td>\n    </tr>\n    <tr>\n      <th>2021-05-31</th>\n      <td>120.84</td>\n      <td>121.25</td>\n      <td>120.28</td>\n      <td>121.25</td>\n      <td>121.25</td>\n      <td>4707495</td>\n      <td>0.0</td>\n      <td>1.0</td>\n    </tr>\n  </tbody>\n</table>\n<p>2819 rows × 8 columns</p>\n</div>"
     },
     "metadata": {},
     "execution_count": 88
    }
   ],
   "source": [
    "df_copy"
   ]
  },
  {
   "cell_type": "code",
   "execution_count": 89,
   "metadata": {},
   "outputs": [],
   "source": [
    "bova11_df = df_copy[['open','high','low','adjusted close','volume']]"
   ]
  },
  {
   "cell_type": "code",
   "execution_count": 90,
   "metadata": {},
   "outputs": [
    {
     "output_type": "stream",
     "name": "stderr",
     "text": [
      "<ipython-input-90-13b155523b11>:2: SettingWithCopyWarning: \nA value is trying to be set on a copy of a slice from a DataFrame.\nTry using .loc[row_indexer,col_indexer] = value instead\n\nSee the caveats in the documentation: https://pandas.pydata.org/pandas-docs/stable/user_guide/indexing.html#returning-a-view-versus-a-copy\n  bova11_df['RSI_14'] = rsi_14\n"
     ]
    }
   ],
   "source": [
    "#Mudar isso depois  https://pandas.pydata.org/pandas-docs/stable/user_guide/indexing.html#returning-a-view-versus-a-copy\n",
    "bova11_df['RSI_14'] = rsi_14"
   ]
  },
  {
   "cell_type": "code",
   "execution_count": 91,
   "metadata": {},
   "outputs": [
    {
     "output_type": "stream",
     "name": "stderr",
     "text": [
      "<ipython-input-91-8d9614595a6b>:2: SettingWithCopyWarning: \nA value is trying to be set on a copy of a slice from a DataFrame.\nTry using .loc[row_indexer,col_indexer] = value instead\n\nSee the caveats in the documentation: https://pandas.pydata.org/pandas-docs/stable/user_guide/indexing.html#returning-a-view-versus-a-copy\n  bova11_df['STO_14'] = sto\n"
     ]
    }
   ],
   "source": [
    "#Mudar isso depois  https://pandas.pydata.org/pandas-docs/stable/user_guide/indexing.html#returning-a-view-versus-a-copy\n",
    "bova11_df['STO_14'] = sto"
   ]
  },
  {
   "cell_type": "code",
   "execution_count": 92,
   "metadata": {},
   "outputs": [],
   "source": [
    "bova11_df['CHO'] = cho"
   ]
  },
  {
   "cell_type": "code",
   "execution_count": 93,
   "metadata": {},
   "outputs": [
    {
     "output_type": "execute_result",
     "data": {
      "text/plain": [
       "             open   high    low  adjusted close  volume  RSI_14  STO_14  CHO\n",
       "2010-01-04  68.55  69.45  68.30           69.37  168379     NaN     NaN  NaN\n",
       "2010-01-05  69.46  70.03  69.32           69.90  179175     NaN     NaN  NaN\n",
       "2010-01-06  69.74  70.32  69.70           70.30  187683     NaN     NaN  NaN\n",
       "2010-01-07  69.52  70.13  69.52           70.00  105126     NaN     NaN  NaN\n",
       "2010-01-08  69.41  70.00  69.31           69.48  177077     NaN     NaN  NaN"
      ],
      "text/html": "<div>\n<style scoped>\n    .dataframe tbody tr th:only-of-type {\n        vertical-align: middle;\n    }\n\n    .dataframe tbody tr th {\n        vertical-align: top;\n    }\n\n    .dataframe thead th {\n        text-align: right;\n    }\n</style>\n<table border=\"1\" class=\"dataframe\">\n  <thead>\n    <tr style=\"text-align: right;\">\n      <th></th>\n      <th>open</th>\n      <th>high</th>\n      <th>low</th>\n      <th>adjusted close</th>\n      <th>volume</th>\n      <th>RSI_14</th>\n      <th>STO_14</th>\n      <th>CHO</th>\n    </tr>\n  </thead>\n  <tbody>\n    <tr>\n      <th>2010-01-04</th>\n      <td>68.55</td>\n      <td>69.45</td>\n      <td>68.30</td>\n      <td>69.37</td>\n      <td>168379</td>\n      <td>NaN</td>\n      <td>NaN</td>\n      <td>NaN</td>\n    </tr>\n    <tr>\n      <th>2010-01-05</th>\n      <td>69.46</td>\n      <td>70.03</td>\n      <td>69.32</td>\n      <td>69.90</td>\n      <td>179175</td>\n      <td>NaN</td>\n      <td>NaN</td>\n      <td>NaN</td>\n    </tr>\n    <tr>\n      <th>2010-01-06</th>\n      <td>69.74</td>\n      <td>70.32</td>\n      <td>69.70</td>\n      <td>70.30</td>\n      <td>187683</td>\n      <td>NaN</td>\n      <td>NaN</td>\n      <td>NaN</td>\n    </tr>\n    <tr>\n      <th>2010-01-07</th>\n      <td>69.52</td>\n      <td>70.13</td>\n      <td>69.52</td>\n      <td>70.00</td>\n      <td>105126</td>\n      <td>NaN</td>\n      <td>NaN</td>\n      <td>NaN</td>\n    </tr>\n    <tr>\n      <th>2010-01-08</th>\n      <td>69.41</td>\n      <td>70.00</td>\n      <td>69.31</td>\n      <td>69.48</td>\n      <td>177077</td>\n      <td>NaN</td>\n      <td>NaN</td>\n      <td>NaN</td>\n    </tr>\n  </tbody>\n</table>\n</div>"
     },
     "metadata": {},
     "execution_count": 93
    }
   ],
   "source": [
    "bova11_df.head()"
   ]
  },
  {
   "cell_type": "code",
   "execution_count": 94,
   "metadata": {},
   "outputs": [],
   "source": [
    "bova11_df['returns']= bova11_df['adjusted close'].pct_change()"
   ]
  },
  {
   "cell_type": "code",
   "execution_count": 95,
   "metadata": {},
   "outputs": [],
   "source": [
    "bova11_df.to_csv(\"bova11_TA_v1.csv\")"
   ]
  },
  {
   "source": [
    "# Links"
   ],
   "cell_type": "markdown",
   "metadata": {}
  },
  {
   "source": [
    "https://medium.com/codex/alpha-vantage-an-introduction-to-a-highly-efficient-free-stock-api-6d17f4481bf\n",
    "\n",
    "https://medium.com/alpha-vantage/get-started-with-alpha-vantage-data-619a70c7f33a\n",
    "\n",
    "https://www.alphavantage.co/documentation/\n",
    "\n",
    "https://stackoverflow.com/questions/16088741/pandas-add-a-column-to-a-multiindex-column-dataframe\n",
    "\n",
    "https://stackoverflow.com/questions/20526414/relative-strength-index-in-python-pandas\n",
    "\n",
    "\n"
   ],
   "cell_type": "markdown",
   "metadata": {}
  }
 ]
}