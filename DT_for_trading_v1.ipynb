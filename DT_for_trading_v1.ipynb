{
 "metadata": {
  "language_info": {
   "codemirror_mode": {
    "name": "ipython",
    "version": 3
   },
   "file_extension": ".py",
   "mimetype": "text/x-python",
   "name": "python",
   "nbconvert_exporter": "python",
   "pygments_lexer": "ipython3",
   "version": "3.8.5"
  },
  "orig_nbformat": 2,
  "kernelspec": {
   "name": "python385jvsc74a57bd04b41f1d7901c245d236e028006d52e8373fd7c96b9ffb251bc24e32ccdfcdcfe",
   "display_name": "Python 3.8.5 64-bit ('base': conda)"
  }
 },
 "nbformat": 4,
 "nbformat_minor": 2,
 "cells": [
  {
   "source": [
    "### Set Up"
   ],
   "cell_type": "markdown",
   "metadata": {}
  },
  {
   "cell_type": "code",
   "execution_count": 167,
   "metadata": {},
   "outputs": [],
   "source": [
    "import pandas as pd\n",
    "import numpy as np\n",
    "import seaborn as sns  \n",
    "from pylab import mpl, plt "
   ]
  },
  {
   "cell_type": "code",
   "execution_count": 168,
   "metadata": {},
   "outputs": [],
   "source": [
    "plt.style.use('seaborn')\n",
    "mpl.rcParams['font.family'] = 'serif'\n",
    "%matplotlib inline"
   ]
  },
  {
   "cell_type": "code",
   "execution_count": 169,
   "metadata": {},
   "outputs": [],
   "source": [
    "bova = pd.read_csv('bova11_TA_v1.csv',index_col=0)"
   ]
  },
  {
   "cell_type": "code",
   "execution_count": 170,
   "metadata": {},
   "outputs": [
    {
     "output_type": "execute_result",
     "data": {
      "text/plain": [
       "             open   high    low  adjusted close  volume  RSI_14  STO_14  CHO  \\\n",
       "2010-01-04  68.55  69.45  68.30           69.37  168379     NaN     NaN  NaN   \n",
       "2010-01-05  69.46  70.03  69.32           69.90  179175     NaN     NaN  NaN   \n",
       "2010-01-06  69.74  70.32  69.70           70.30  187683     NaN     NaN  NaN   \n",
       "2010-01-07  69.52  70.13  69.52           70.00  105126     NaN     NaN  NaN   \n",
       "2010-01-08  69.41  70.00  69.31           69.48  177077     NaN     NaN  NaN   \n",
       "\n",
       "             returns  \n",
       "2010-01-04       NaN  \n",
       "2010-01-05  0.007640  \n",
       "2010-01-06  0.005722  \n",
       "2010-01-07 -0.004267  \n",
       "2010-01-08 -0.007429  "
      ],
      "text/html": "<div>\n<style scoped>\n    .dataframe tbody tr th:only-of-type {\n        vertical-align: middle;\n    }\n\n    .dataframe tbody tr th {\n        vertical-align: top;\n    }\n\n    .dataframe thead th {\n        text-align: right;\n    }\n</style>\n<table border=\"1\" class=\"dataframe\">\n  <thead>\n    <tr style=\"text-align: right;\">\n      <th></th>\n      <th>open</th>\n      <th>high</th>\n      <th>low</th>\n      <th>adjusted close</th>\n      <th>volume</th>\n      <th>RSI_14</th>\n      <th>STO_14</th>\n      <th>CHO</th>\n      <th>returns</th>\n    </tr>\n  </thead>\n  <tbody>\n    <tr>\n      <th>2010-01-04</th>\n      <td>68.55</td>\n      <td>69.45</td>\n      <td>68.30</td>\n      <td>69.37</td>\n      <td>168379</td>\n      <td>NaN</td>\n      <td>NaN</td>\n      <td>NaN</td>\n      <td>NaN</td>\n    </tr>\n    <tr>\n      <th>2010-01-05</th>\n      <td>69.46</td>\n      <td>70.03</td>\n      <td>69.32</td>\n      <td>69.90</td>\n      <td>179175</td>\n      <td>NaN</td>\n      <td>NaN</td>\n      <td>NaN</td>\n      <td>0.007640</td>\n    </tr>\n    <tr>\n      <th>2010-01-06</th>\n      <td>69.74</td>\n      <td>70.32</td>\n      <td>69.70</td>\n      <td>70.30</td>\n      <td>187683</td>\n      <td>NaN</td>\n      <td>NaN</td>\n      <td>NaN</td>\n      <td>0.005722</td>\n    </tr>\n    <tr>\n      <th>2010-01-07</th>\n      <td>69.52</td>\n      <td>70.13</td>\n      <td>69.52</td>\n      <td>70.00</td>\n      <td>105126</td>\n      <td>NaN</td>\n      <td>NaN</td>\n      <td>NaN</td>\n      <td>-0.004267</td>\n    </tr>\n    <tr>\n      <th>2010-01-08</th>\n      <td>69.41</td>\n      <td>70.00</td>\n      <td>69.31</td>\n      <td>69.48</td>\n      <td>177077</td>\n      <td>NaN</td>\n      <td>NaN</td>\n      <td>NaN</td>\n      <td>-0.007429</td>\n    </tr>\n  </tbody>\n</table>\n</div>"
     },
     "metadata": {},
     "execution_count": 170
    }
   ],
   "source": [
    "bova.head()"
   ]
  },
  {
   "cell_type": "code",
   "execution_count": 171,
   "metadata": {},
   "outputs": [],
   "source": [
    "bova = bova.rename(columns={\"adjusted close\": \"adj_close\",\"returns\": \"return\"}) "
   ]
  },
  {
   "source": [
    "### Creatimg  new features"
   ],
   "cell_type": "markdown",
   "metadata": {}
  },
  {
   "cell_type": "code",
   "execution_count": 172,
   "metadata": {},
   "outputs": [],
   "source": [
    "#Close price of N day before\n",
    "bova['5d_close']= bova['adj_close'].shift(5)\n",
    "bova['10d_close']= bova['adj_close'].shift(10)\n",
    "bova['15d_close']= bova['adj_close'].shift(15)"
   ]
  },
  {
   "cell_type": "code",
   "execution_count": 173,
   "metadata": {},
   "outputs": [],
   "source": [
    "#Rolling volatility of a window  of N days\n",
    "bova['SD_close_5d']= bova['return'].rolling(5).std()*np.sqrt(252)\n",
    "bova['SD_close_10d']= bova['return'].rolling(10).std()*np.sqrt(252)\n",
    "bova['SD_close_15d']= bova['return'].rolling(15).std()*np.sqrt(252)"
   ]
  },
  {
   "cell_type": "code",
   "execution_count": 174,
   "metadata": {},
   "outputs": [],
   "source": [
    "#My goal is to predict if the return on the next day will be positive\n",
    "bova['Target'] = np.where(bova['return'] > 0 ,1,0)"
   ]
  },
  {
   "cell_type": "code",
   "execution_count": 175,
   "metadata": {},
   "outputs": [
    {
     "output_type": "execute_result",
     "data": {
      "text/plain": [
       "             open   high    low  adj_close  volume  RSI_14  STO_14  CHO  \\\n",
       "2010-01-04  68.55  69.45  68.30      69.37  168379     NaN     NaN  NaN   \n",
       "2010-01-05  69.46  70.03  69.32      69.90  179175     NaN     NaN  NaN   \n",
       "2010-01-06  69.74  70.32  69.70      70.30  187683     NaN     NaN  NaN   \n",
       "2010-01-07  69.52  70.13  69.52      70.00  105126     NaN     NaN  NaN   \n",
       "2010-01-08  69.41  70.00  69.31      69.48  177077     NaN     NaN  NaN   \n",
       "\n",
       "              return  5d_close  10d_close  15d_close  SD_close_5d  \\\n",
       "2010-01-04       NaN       NaN        NaN        NaN          NaN   \n",
       "2010-01-05  0.007640       NaN        NaN        NaN          NaN   \n",
       "2010-01-06  0.005722       NaN        NaN        NaN          NaN   \n",
       "2010-01-07 -0.004267       NaN        NaN        NaN          NaN   \n",
       "2010-01-08 -0.007429       NaN        NaN        NaN          NaN   \n",
       "\n",
       "            SD_close_10d  SD_close_15d  Target  \n",
       "2010-01-04           NaN           NaN       0  \n",
       "2010-01-05           NaN           NaN       1  \n",
       "2010-01-06           NaN           NaN       1  \n",
       "2010-01-07           NaN           NaN       0  \n",
       "2010-01-08           NaN           NaN       0  "
      ],
      "text/html": "<div>\n<style scoped>\n    .dataframe tbody tr th:only-of-type {\n        vertical-align: middle;\n    }\n\n    .dataframe tbody tr th {\n        vertical-align: top;\n    }\n\n    .dataframe thead th {\n        text-align: right;\n    }\n</style>\n<table border=\"1\" class=\"dataframe\">\n  <thead>\n    <tr style=\"text-align: right;\">\n      <th></th>\n      <th>open</th>\n      <th>high</th>\n      <th>low</th>\n      <th>adj_close</th>\n      <th>volume</th>\n      <th>RSI_14</th>\n      <th>STO_14</th>\n      <th>CHO</th>\n      <th>return</th>\n      <th>5d_close</th>\n      <th>10d_close</th>\n      <th>15d_close</th>\n      <th>SD_close_5d</th>\n      <th>SD_close_10d</th>\n      <th>SD_close_15d</th>\n      <th>Target</th>\n    </tr>\n  </thead>\n  <tbody>\n    <tr>\n      <th>2010-01-04</th>\n      <td>68.55</td>\n      <td>69.45</td>\n      <td>68.30</td>\n      <td>69.37</td>\n      <td>168379</td>\n      <td>NaN</td>\n      <td>NaN</td>\n      <td>NaN</td>\n      <td>NaN</td>\n      <td>NaN</td>\n      <td>NaN</td>\n      <td>NaN</td>\n      <td>NaN</td>\n      <td>NaN</td>\n      <td>NaN</td>\n      <td>0</td>\n    </tr>\n    <tr>\n      <th>2010-01-05</th>\n      <td>69.46</td>\n      <td>70.03</td>\n      <td>69.32</td>\n      <td>69.90</td>\n      <td>179175</td>\n      <td>NaN</td>\n      <td>NaN</td>\n      <td>NaN</td>\n      <td>0.007640</td>\n      <td>NaN</td>\n      <td>NaN</td>\n      <td>NaN</td>\n      <td>NaN</td>\n      <td>NaN</td>\n      <td>NaN</td>\n      <td>1</td>\n    </tr>\n    <tr>\n      <th>2010-01-06</th>\n      <td>69.74</td>\n      <td>70.32</td>\n      <td>69.70</td>\n      <td>70.30</td>\n      <td>187683</td>\n      <td>NaN</td>\n      <td>NaN</td>\n      <td>NaN</td>\n      <td>0.005722</td>\n      <td>NaN</td>\n      <td>NaN</td>\n      <td>NaN</td>\n      <td>NaN</td>\n      <td>NaN</td>\n      <td>NaN</td>\n      <td>1</td>\n    </tr>\n    <tr>\n      <th>2010-01-07</th>\n      <td>69.52</td>\n      <td>70.13</td>\n      <td>69.52</td>\n      <td>70.00</td>\n      <td>105126</td>\n      <td>NaN</td>\n      <td>NaN</td>\n      <td>NaN</td>\n      <td>-0.004267</td>\n      <td>NaN</td>\n      <td>NaN</td>\n      <td>NaN</td>\n      <td>NaN</td>\n      <td>NaN</td>\n      <td>NaN</td>\n      <td>0</td>\n    </tr>\n    <tr>\n      <th>2010-01-08</th>\n      <td>69.41</td>\n      <td>70.00</td>\n      <td>69.31</td>\n      <td>69.48</td>\n      <td>177077</td>\n      <td>NaN</td>\n      <td>NaN</td>\n      <td>NaN</td>\n      <td>-0.007429</td>\n      <td>NaN</td>\n      <td>NaN</td>\n      <td>NaN</td>\n      <td>NaN</td>\n      <td>NaN</td>\n      <td>NaN</td>\n      <td>0</td>\n    </tr>\n  </tbody>\n</table>\n</div>"
     },
     "metadata": {},
     "execution_count": 175
    }
   ],
   "source": [
    "bova.head()"
   ]
  },
  {
   "cell_type": "code",
   "execution_count": 176,
   "metadata": {},
   "outputs": [],
   "source": [
    "df = bova.dropna()"
   ]
  },
  {
   "cell_type": "code",
   "execution_count": 177,
   "metadata": {},
   "outputs": [
    {
     "output_type": "execute_result",
     "data": {
      "text/plain": [
       "             open   high    low  adj_close  volume     RSI_14     STO_14  \\\n",
       "2010-01-26  65.05  65.36  64.12      64.98  457095  24.549947   0.000000   \n",
       "2010-01-27  64.99  65.00  63.90      64.90  444017  24.291395   0.000000   \n",
       "2010-01-28  65.06  66.49  63.98      65.20  243961  27.380053   5.882353   \n",
       "2010-01-29  65.50  65.99  64.70      64.90  129331  26.227741   0.000000   \n",
       "2010-02-01  65.40  66.16  64.79      66.05  172290  37.147644  22.549020   \n",
       "\n",
       "                      CHO    return  5d_close  10d_close  15d_close  \\\n",
       "2010-01-26 -153660.903303 -0.009300     68.90      69.99      69.37   \n",
       "2010-01-27    7344.691172 -0.001231     68.12      69.70      69.90   \n",
       "2010-01-28   70378.105506  0.004622     67.70      70.00      70.30   \n",
       "2010-01-29   61375.649488 -0.004601     65.90      69.50      70.00   \n",
       "2010-02-01   98129.628841  0.017720     65.59      68.50      69.48   \n",
       "\n",
       "            SD_close_5d  SD_close_10d  SD_close_15d  Target  \n",
       "2010-01-26     0.139092      0.146615      0.149983       0  \n",
       "2010-01-27     0.157646      0.149112      0.141427       0  \n",
       "2010-01-28     0.188105      0.149799      0.140004       1  \n",
       "2010-01-29     0.081866      0.150292      0.139981       0  \n",
       "2010-02-01     0.165380      0.186797      0.167377       1  "
      ],
      "text/html": "<div>\n<style scoped>\n    .dataframe tbody tr th:only-of-type {\n        vertical-align: middle;\n    }\n\n    .dataframe tbody tr th {\n        vertical-align: top;\n    }\n\n    .dataframe thead th {\n        text-align: right;\n    }\n</style>\n<table border=\"1\" class=\"dataframe\">\n  <thead>\n    <tr style=\"text-align: right;\">\n      <th></th>\n      <th>open</th>\n      <th>high</th>\n      <th>low</th>\n      <th>adj_close</th>\n      <th>volume</th>\n      <th>RSI_14</th>\n      <th>STO_14</th>\n      <th>CHO</th>\n      <th>return</th>\n      <th>5d_close</th>\n      <th>10d_close</th>\n      <th>15d_close</th>\n      <th>SD_close_5d</th>\n      <th>SD_close_10d</th>\n      <th>SD_close_15d</th>\n      <th>Target</th>\n    </tr>\n  </thead>\n  <tbody>\n    <tr>\n      <th>2010-01-26</th>\n      <td>65.05</td>\n      <td>65.36</td>\n      <td>64.12</td>\n      <td>64.98</td>\n      <td>457095</td>\n      <td>24.549947</td>\n      <td>0.000000</td>\n      <td>-153660.903303</td>\n      <td>-0.009300</td>\n      <td>68.90</td>\n      <td>69.99</td>\n      <td>69.37</td>\n      <td>0.139092</td>\n      <td>0.146615</td>\n      <td>0.149983</td>\n      <td>0</td>\n    </tr>\n    <tr>\n      <th>2010-01-27</th>\n      <td>64.99</td>\n      <td>65.00</td>\n      <td>63.90</td>\n      <td>64.90</td>\n      <td>444017</td>\n      <td>24.291395</td>\n      <td>0.000000</td>\n      <td>7344.691172</td>\n      <td>-0.001231</td>\n      <td>68.12</td>\n      <td>69.70</td>\n      <td>69.90</td>\n      <td>0.157646</td>\n      <td>0.149112</td>\n      <td>0.141427</td>\n      <td>0</td>\n    </tr>\n    <tr>\n      <th>2010-01-28</th>\n      <td>65.06</td>\n      <td>66.49</td>\n      <td>63.98</td>\n      <td>65.20</td>\n      <td>243961</td>\n      <td>27.380053</td>\n      <td>5.882353</td>\n      <td>70378.105506</td>\n      <td>0.004622</td>\n      <td>67.70</td>\n      <td>70.00</td>\n      <td>70.30</td>\n      <td>0.188105</td>\n      <td>0.149799</td>\n      <td>0.140004</td>\n      <td>1</td>\n    </tr>\n    <tr>\n      <th>2010-01-29</th>\n      <td>65.50</td>\n      <td>65.99</td>\n      <td>64.70</td>\n      <td>64.90</td>\n      <td>129331</td>\n      <td>26.227741</td>\n      <td>0.000000</td>\n      <td>61375.649488</td>\n      <td>-0.004601</td>\n      <td>65.90</td>\n      <td>69.50</td>\n      <td>70.00</td>\n      <td>0.081866</td>\n      <td>0.150292</td>\n      <td>0.139981</td>\n      <td>0</td>\n    </tr>\n    <tr>\n      <th>2010-02-01</th>\n      <td>65.40</td>\n      <td>66.16</td>\n      <td>64.79</td>\n      <td>66.05</td>\n      <td>172290</td>\n      <td>37.147644</td>\n      <td>22.549020</td>\n      <td>98129.628841</td>\n      <td>0.017720</td>\n      <td>65.59</td>\n      <td>68.50</td>\n      <td>69.48</td>\n      <td>0.165380</td>\n      <td>0.186797</td>\n      <td>0.167377</td>\n      <td>1</td>\n    </tr>\n  </tbody>\n</table>\n</div>"
     },
     "metadata": {},
     "execution_count": 177
    }
   ],
   "source": [
    "df.head()"
   ]
  },
  {
   "source": [
    "### Splitting data"
   ],
   "cell_type": "markdown",
   "metadata": {}
  },
  {
   "cell_type": "code",
   "execution_count": 178,
   "metadata": {},
   "outputs": [
    {
     "output_type": "execute_result",
     "data": {
      "text/plain": [
       "             open   high    low  adj_close  volume     RSI_14     STO_14  \\\n",
       "2010-01-26  65.05  65.36  64.12      64.98  457095  24.549947   0.000000   \n",
       "2010-01-27  64.99  65.00  63.90      64.90  444017  24.291395   0.000000   \n",
       "2010-01-28  65.06  66.49  63.98      65.20  243961  27.380053   5.882353   \n",
       "2010-01-29  65.50  65.99  64.70      64.90  129331  26.227741   0.000000   \n",
       "2010-02-01  65.40  66.16  64.79      66.05  172290  37.147644  22.549020   \n",
       "\n",
       "                      CHO    return  5d_close  10d_close  15d_close  \\\n",
       "2010-01-26 -153660.903303 -0.009300     68.90      69.99      69.37   \n",
       "2010-01-27    7344.691172 -0.001231     68.12      69.70      69.90   \n",
       "2010-01-28   70378.105506  0.004622     67.70      70.00      70.30   \n",
       "2010-01-29   61375.649488 -0.004601     65.90      69.50      70.00   \n",
       "2010-02-01   98129.628841  0.017720     65.59      68.50      69.48   \n",
       "\n",
       "            SD_close_5d  SD_close_10d  SD_close_15d  Target  \n",
       "2010-01-26     0.139092      0.146615      0.149983       0  \n",
       "2010-01-27     0.157646      0.149112      0.141427       0  \n",
       "2010-01-28     0.188105      0.149799      0.140004       1  \n",
       "2010-01-29     0.081866      0.150292      0.139981       0  \n",
       "2010-02-01     0.165380      0.186797      0.167377       1  "
      ],
      "text/html": "<div>\n<style scoped>\n    .dataframe tbody tr th:only-of-type {\n        vertical-align: middle;\n    }\n\n    .dataframe tbody tr th {\n        vertical-align: top;\n    }\n\n    .dataframe thead th {\n        text-align: right;\n    }\n</style>\n<table border=\"1\" class=\"dataframe\">\n  <thead>\n    <tr style=\"text-align: right;\">\n      <th></th>\n      <th>open</th>\n      <th>high</th>\n      <th>low</th>\n      <th>adj_close</th>\n      <th>volume</th>\n      <th>RSI_14</th>\n      <th>STO_14</th>\n      <th>CHO</th>\n      <th>return</th>\n      <th>5d_close</th>\n      <th>10d_close</th>\n      <th>15d_close</th>\n      <th>SD_close_5d</th>\n      <th>SD_close_10d</th>\n      <th>SD_close_15d</th>\n      <th>Target</th>\n    </tr>\n  </thead>\n  <tbody>\n    <tr>\n      <th>2010-01-26</th>\n      <td>65.05</td>\n      <td>65.36</td>\n      <td>64.12</td>\n      <td>64.98</td>\n      <td>457095</td>\n      <td>24.549947</td>\n      <td>0.000000</td>\n      <td>-153660.903303</td>\n      <td>-0.009300</td>\n      <td>68.90</td>\n      <td>69.99</td>\n      <td>69.37</td>\n      <td>0.139092</td>\n      <td>0.146615</td>\n      <td>0.149983</td>\n      <td>0</td>\n    </tr>\n    <tr>\n      <th>2010-01-27</th>\n      <td>64.99</td>\n      <td>65.00</td>\n      <td>63.90</td>\n      <td>64.90</td>\n      <td>444017</td>\n      <td>24.291395</td>\n      <td>0.000000</td>\n      <td>7344.691172</td>\n      <td>-0.001231</td>\n      <td>68.12</td>\n      <td>69.70</td>\n      <td>69.90</td>\n      <td>0.157646</td>\n      <td>0.149112</td>\n      <td>0.141427</td>\n      <td>0</td>\n    </tr>\n    <tr>\n      <th>2010-01-28</th>\n      <td>65.06</td>\n      <td>66.49</td>\n      <td>63.98</td>\n      <td>65.20</td>\n      <td>243961</td>\n      <td>27.380053</td>\n      <td>5.882353</td>\n      <td>70378.105506</td>\n      <td>0.004622</td>\n      <td>67.70</td>\n      <td>70.00</td>\n      <td>70.30</td>\n      <td>0.188105</td>\n      <td>0.149799</td>\n      <td>0.140004</td>\n      <td>1</td>\n    </tr>\n    <tr>\n      <th>2010-01-29</th>\n      <td>65.50</td>\n      <td>65.99</td>\n      <td>64.70</td>\n      <td>64.90</td>\n      <td>129331</td>\n      <td>26.227741</td>\n      <td>0.000000</td>\n      <td>61375.649488</td>\n      <td>-0.004601</td>\n      <td>65.90</td>\n      <td>69.50</td>\n      <td>70.00</td>\n      <td>0.081866</td>\n      <td>0.150292</td>\n      <td>0.139981</td>\n      <td>0</td>\n    </tr>\n    <tr>\n      <th>2010-02-01</th>\n      <td>65.40</td>\n      <td>66.16</td>\n      <td>64.79</td>\n      <td>66.05</td>\n      <td>172290</td>\n      <td>37.147644</td>\n      <td>22.549020</td>\n      <td>98129.628841</td>\n      <td>0.017720</td>\n      <td>65.59</td>\n      <td>68.50</td>\n      <td>69.48</td>\n      <td>0.165380</td>\n      <td>0.186797</td>\n      <td>0.167377</td>\n      <td>1</td>\n    </tr>\n  </tbody>\n</table>\n</div>"
     },
     "metadata": {},
     "execution_count": 178
    }
   ],
   "source": [
    "df.head()"
   ]
  },
  {
   "cell_type": "code",
   "execution_count": 179,
   "metadata": {},
   "outputs": [
    {
     "output_type": "stream",
     "name": "stderr",
     "text": [
      "<ipython-input-179-6e3be0f91cbf>:1: SettingWithCopyWarning: \nA value is trying to be set on a copy of a slice from a DataFrame.\nTry using .loc[row_indexer,col_indexer] = value instead\n\nSee the caveats in the documentation: https://pandas.pydata.org/pandas-docs/stable/user_guide/indexing.html#returning-a-view-versus-a-copy\n  df['Target'] = df['Target'].shift(-1)\n"
     ]
    }
   ],
   "source": [
    "df['Target'] = df['Target'].shift(-1)"
   ]
  },
  {
   "cell_type": "code",
   "execution_count": 180,
   "metadata": {},
   "outputs": [
    {
     "output_type": "execute_result",
     "data": {
      "text/plain": [
       "             open   high    low  adj_close  volume     RSI_14     STO_14  \\\n",
       "2010-01-26  65.05  65.36  64.12      64.98  457095  24.549947   0.000000   \n",
       "2010-01-27  64.99  65.00  63.90      64.90  444017  24.291395   0.000000   \n",
       "2010-01-28  65.06  66.49  63.98      65.20  243961  27.380053   5.882353   \n",
       "2010-01-29  65.50  65.99  64.70      64.90  129331  26.227741   0.000000   \n",
       "2010-02-01  65.40  66.16  64.79      66.05  172290  37.147644  22.549020   \n",
       "\n",
       "                      CHO    return  5d_close  10d_close  15d_close  \\\n",
       "2010-01-26 -153660.903303 -0.009300     68.90      69.99      69.37   \n",
       "2010-01-27    7344.691172 -0.001231     68.12      69.70      69.90   \n",
       "2010-01-28   70378.105506  0.004622     67.70      70.00      70.30   \n",
       "2010-01-29   61375.649488 -0.004601     65.90      69.50      70.00   \n",
       "2010-02-01   98129.628841  0.017720     65.59      68.50      69.48   \n",
       "\n",
       "            SD_close_5d  SD_close_10d  SD_close_15d  Target  \n",
       "2010-01-26     0.139092      0.146615      0.149983     0.0  \n",
       "2010-01-27     0.157646      0.149112      0.141427     1.0  \n",
       "2010-01-28     0.188105      0.149799      0.140004     0.0  \n",
       "2010-01-29     0.081866      0.150292      0.139981     1.0  \n",
       "2010-02-01     0.165380      0.186797      0.167377     1.0  "
      ],
      "text/html": "<div>\n<style scoped>\n    .dataframe tbody tr th:only-of-type {\n        vertical-align: middle;\n    }\n\n    .dataframe tbody tr th {\n        vertical-align: top;\n    }\n\n    .dataframe thead th {\n        text-align: right;\n    }\n</style>\n<table border=\"1\" class=\"dataframe\">\n  <thead>\n    <tr style=\"text-align: right;\">\n      <th></th>\n      <th>open</th>\n      <th>high</th>\n      <th>low</th>\n      <th>adj_close</th>\n      <th>volume</th>\n      <th>RSI_14</th>\n      <th>STO_14</th>\n      <th>CHO</th>\n      <th>return</th>\n      <th>5d_close</th>\n      <th>10d_close</th>\n      <th>15d_close</th>\n      <th>SD_close_5d</th>\n      <th>SD_close_10d</th>\n      <th>SD_close_15d</th>\n      <th>Target</th>\n    </tr>\n  </thead>\n  <tbody>\n    <tr>\n      <th>2010-01-26</th>\n      <td>65.05</td>\n      <td>65.36</td>\n      <td>64.12</td>\n      <td>64.98</td>\n      <td>457095</td>\n      <td>24.549947</td>\n      <td>0.000000</td>\n      <td>-153660.903303</td>\n      <td>-0.009300</td>\n      <td>68.90</td>\n      <td>69.99</td>\n      <td>69.37</td>\n      <td>0.139092</td>\n      <td>0.146615</td>\n      <td>0.149983</td>\n      <td>0.0</td>\n    </tr>\n    <tr>\n      <th>2010-01-27</th>\n      <td>64.99</td>\n      <td>65.00</td>\n      <td>63.90</td>\n      <td>64.90</td>\n      <td>444017</td>\n      <td>24.291395</td>\n      <td>0.000000</td>\n      <td>7344.691172</td>\n      <td>-0.001231</td>\n      <td>68.12</td>\n      <td>69.70</td>\n      <td>69.90</td>\n      <td>0.157646</td>\n      <td>0.149112</td>\n      <td>0.141427</td>\n      <td>1.0</td>\n    </tr>\n    <tr>\n      <th>2010-01-28</th>\n      <td>65.06</td>\n      <td>66.49</td>\n      <td>63.98</td>\n      <td>65.20</td>\n      <td>243961</td>\n      <td>27.380053</td>\n      <td>5.882353</td>\n      <td>70378.105506</td>\n      <td>0.004622</td>\n      <td>67.70</td>\n      <td>70.00</td>\n      <td>70.30</td>\n      <td>0.188105</td>\n      <td>0.149799</td>\n      <td>0.140004</td>\n      <td>0.0</td>\n    </tr>\n    <tr>\n      <th>2010-01-29</th>\n      <td>65.50</td>\n      <td>65.99</td>\n      <td>64.70</td>\n      <td>64.90</td>\n      <td>129331</td>\n      <td>26.227741</td>\n      <td>0.000000</td>\n      <td>61375.649488</td>\n      <td>-0.004601</td>\n      <td>65.90</td>\n      <td>69.50</td>\n      <td>70.00</td>\n      <td>0.081866</td>\n      <td>0.150292</td>\n      <td>0.139981</td>\n      <td>1.0</td>\n    </tr>\n    <tr>\n      <th>2010-02-01</th>\n      <td>65.40</td>\n      <td>66.16</td>\n      <td>64.79</td>\n      <td>66.05</td>\n      <td>172290</td>\n      <td>37.147644</td>\n      <td>22.549020</td>\n      <td>98129.628841</td>\n      <td>0.017720</td>\n      <td>65.59</td>\n      <td>68.50</td>\n      <td>69.48</td>\n      <td>0.165380</td>\n      <td>0.186797</td>\n      <td>0.167377</td>\n      <td>1.0</td>\n    </tr>\n  </tbody>\n</table>\n</div>"
     },
     "metadata": {},
     "execution_count": 180
    }
   ],
   "source": [
    "df.head()"
   ]
  },
  {
   "cell_type": "code",
   "execution_count": 181,
   "metadata": {},
   "outputs": [
    {
     "output_type": "execute_result",
     "data": {
      "text/plain": [
       "              open    high     low  adj_close   volume     RSI_14      STO_14  \\\n",
       "2010-01-26   65.05   65.36   64.12      64.98   457095  24.549947    0.000000   \n",
       "2010-01-27   64.99   65.00   63.90      64.90   444017  24.291395    0.000000   \n",
       "2010-01-28   65.06   66.49   63.98      65.20   243961  27.380053    5.882353   \n",
       "2010-01-29   65.50   65.99   64.70      64.90   129331  26.227741    0.000000   \n",
       "2010-02-01   65.40   66.16   64.79      66.05   172290  37.147644   22.549020   \n",
       "...            ...     ...     ...        ...      ...        ...         ...   \n",
       "2021-05-24  118.26  119.50  117.96     119.26  5788644  63.116431  100.000000   \n",
       "2021-05-25  119.89  119.97  118.05     118.40  5697654  58.676499   78.446115   \n",
       "2021-05-26  118.94  119.58  118.79     119.24  4716894  61.523545   99.498747   \n",
       "2021-05-27  119.46  119.83  118.79     119.59  6038746  62.677378  100.000000   \n",
       "2021-05-28  119.75  120.89  119.53     120.72  5991423  66.201422  100.000000   \n",
       "\n",
       "                     CHO    return  5d_close  10d_close  15d_close  \\\n",
       "2010-01-26 -1.536609e+05 -0.009300     68.90      69.99      69.37   \n",
       "2010-01-27  7.344691e+03 -0.001231     68.12      69.70      69.90   \n",
       "2010-01-28  7.037811e+04  0.004622     67.70      70.00      70.30   \n",
       "2010-01-29  6.137565e+04 -0.004601     65.90      69.50      70.00   \n",
       "2010-02-01  9.812963e+04  0.017720     65.59      68.50      69.48   \n",
       "...                  ...       ...       ...        ...        ...   \n",
       "2021-05-24  5.440808e+06  0.010592    118.31     117.14     114.68   \n",
       "2021-05-25  4.354429e+06 -0.007211    118.19     118.13     113.27   \n",
       "2021-05-26  3.723120e+06  0.007095    118.01     115.27     115.15   \n",
       "2021-05-27  4.161002e+06  0.002935    117.91     116.04     115.43   \n",
       "2021-05-28  5.391634e+06  0.009449    118.01     117.24     117.46   \n",
       "\n",
       "            SD_close_5d  SD_close_10d  SD_close_15d  Target  \n",
       "2010-01-26     0.139092      0.146615      0.149983     0.0  \n",
       "2010-01-27     0.157646      0.149112      0.141427     1.0  \n",
       "2010-01-28     0.188105      0.149799      0.140004     0.0  \n",
       "2010-01-29     0.081866      0.150292      0.139981     1.0  \n",
       "2010-02-01     0.165380      0.186797      0.167377     1.0  \n",
       "...                 ...           ...           ...     ...  \n",
       "2021-05-24     0.080946      0.165261      0.172431     0.0  \n",
       "2021-05-25     0.102653      0.166428      0.165613     1.0  \n",
       "2021-05-26     0.110558      0.097280      0.155872     1.0  \n",
       "2021-05-27     0.107432      0.095556      0.155889     1.0  \n",
       "2021-05-28     0.114449      0.093733      0.144801     1.0  \n",
       "\n",
       "[2803 rows x 16 columns]"
      ],
      "text/html": "<div>\n<style scoped>\n    .dataframe tbody tr th:only-of-type {\n        vertical-align: middle;\n    }\n\n    .dataframe tbody tr th {\n        vertical-align: top;\n    }\n\n    .dataframe thead th {\n        text-align: right;\n    }\n</style>\n<table border=\"1\" class=\"dataframe\">\n  <thead>\n    <tr style=\"text-align: right;\">\n      <th></th>\n      <th>open</th>\n      <th>high</th>\n      <th>low</th>\n      <th>adj_close</th>\n      <th>volume</th>\n      <th>RSI_14</th>\n      <th>STO_14</th>\n      <th>CHO</th>\n      <th>return</th>\n      <th>5d_close</th>\n      <th>10d_close</th>\n      <th>15d_close</th>\n      <th>SD_close_5d</th>\n      <th>SD_close_10d</th>\n      <th>SD_close_15d</th>\n      <th>Target</th>\n    </tr>\n  </thead>\n  <tbody>\n    <tr>\n      <th>2010-01-26</th>\n      <td>65.05</td>\n      <td>65.36</td>\n      <td>64.12</td>\n      <td>64.98</td>\n      <td>457095</td>\n      <td>24.549947</td>\n      <td>0.000000</td>\n      <td>-1.536609e+05</td>\n      <td>-0.009300</td>\n      <td>68.90</td>\n      <td>69.99</td>\n      <td>69.37</td>\n      <td>0.139092</td>\n      <td>0.146615</td>\n      <td>0.149983</td>\n      <td>0.0</td>\n    </tr>\n    <tr>\n      <th>2010-01-27</th>\n      <td>64.99</td>\n      <td>65.00</td>\n      <td>63.90</td>\n      <td>64.90</td>\n      <td>444017</td>\n      <td>24.291395</td>\n      <td>0.000000</td>\n      <td>7.344691e+03</td>\n      <td>-0.001231</td>\n      <td>68.12</td>\n      <td>69.70</td>\n      <td>69.90</td>\n      <td>0.157646</td>\n      <td>0.149112</td>\n      <td>0.141427</td>\n      <td>1.0</td>\n    </tr>\n    <tr>\n      <th>2010-01-28</th>\n      <td>65.06</td>\n      <td>66.49</td>\n      <td>63.98</td>\n      <td>65.20</td>\n      <td>243961</td>\n      <td>27.380053</td>\n      <td>5.882353</td>\n      <td>7.037811e+04</td>\n      <td>0.004622</td>\n      <td>67.70</td>\n      <td>70.00</td>\n      <td>70.30</td>\n      <td>0.188105</td>\n      <td>0.149799</td>\n      <td>0.140004</td>\n      <td>0.0</td>\n    </tr>\n    <tr>\n      <th>2010-01-29</th>\n      <td>65.50</td>\n      <td>65.99</td>\n      <td>64.70</td>\n      <td>64.90</td>\n      <td>129331</td>\n      <td>26.227741</td>\n      <td>0.000000</td>\n      <td>6.137565e+04</td>\n      <td>-0.004601</td>\n      <td>65.90</td>\n      <td>69.50</td>\n      <td>70.00</td>\n      <td>0.081866</td>\n      <td>0.150292</td>\n      <td>0.139981</td>\n      <td>1.0</td>\n    </tr>\n    <tr>\n      <th>2010-02-01</th>\n      <td>65.40</td>\n      <td>66.16</td>\n      <td>64.79</td>\n      <td>66.05</td>\n      <td>172290</td>\n      <td>37.147644</td>\n      <td>22.549020</td>\n      <td>9.812963e+04</td>\n      <td>0.017720</td>\n      <td>65.59</td>\n      <td>68.50</td>\n      <td>69.48</td>\n      <td>0.165380</td>\n      <td>0.186797</td>\n      <td>0.167377</td>\n      <td>1.0</td>\n    </tr>\n    <tr>\n      <th>...</th>\n      <td>...</td>\n      <td>...</td>\n      <td>...</td>\n      <td>...</td>\n      <td>...</td>\n      <td>...</td>\n      <td>...</td>\n      <td>...</td>\n      <td>...</td>\n      <td>...</td>\n      <td>...</td>\n      <td>...</td>\n      <td>...</td>\n      <td>...</td>\n      <td>...</td>\n      <td>...</td>\n    </tr>\n    <tr>\n      <th>2021-05-24</th>\n      <td>118.26</td>\n      <td>119.50</td>\n      <td>117.96</td>\n      <td>119.26</td>\n      <td>5788644</td>\n      <td>63.116431</td>\n      <td>100.000000</td>\n      <td>5.440808e+06</td>\n      <td>0.010592</td>\n      <td>118.31</td>\n      <td>117.14</td>\n      <td>114.68</td>\n      <td>0.080946</td>\n      <td>0.165261</td>\n      <td>0.172431</td>\n      <td>0.0</td>\n    </tr>\n    <tr>\n      <th>2021-05-25</th>\n      <td>119.89</td>\n      <td>119.97</td>\n      <td>118.05</td>\n      <td>118.40</td>\n      <td>5697654</td>\n      <td>58.676499</td>\n      <td>78.446115</td>\n      <td>4.354429e+06</td>\n      <td>-0.007211</td>\n      <td>118.19</td>\n      <td>118.13</td>\n      <td>113.27</td>\n      <td>0.102653</td>\n      <td>0.166428</td>\n      <td>0.165613</td>\n      <td>1.0</td>\n    </tr>\n    <tr>\n      <th>2021-05-26</th>\n      <td>118.94</td>\n      <td>119.58</td>\n      <td>118.79</td>\n      <td>119.24</td>\n      <td>4716894</td>\n      <td>61.523545</td>\n      <td>99.498747</td>\n      <td>3.723120e+06</td>\n      <td>0.007095</td>\n      <td>118.01</td>\n      <td>115.27</td>\n      <td>115.15</td>\n      <td>0.110558</td>\n      <td>0.097280</td>\n      <td>0.155872</td>\n      <td>1.0</td>\n    </tr>\n    <tr>\n      <th>2021-05-27</th>\n      <td>119.46</td>\n      <td>119.83</td>\n      <td>118.79</td>\n      <td>119.59</td>\n      <td>6038746</td>\n      <td>62.677378</td>\n      <td>100.000000</td>\n      <td>4.161002e+06</td>\n      <td>0.002935</td>\n      <td>117.91</td>\n      <td>116.04</td>\n      <td>115.43</td>\n      <td>0.107432</td>\n      <td>0.095556</td>\n      <td>0.155889</td>\n      <td>1.0</td>\n    </tr>\n    <tr>\n      <th>2021-05-28</th>\n      <td>119.75</td>\n      <td>120.89</td>\n      <td>119.53</td>\n      <td>120.72</td>\n      <td>5991423</td>\n      <td>66.201422</td>\n      <td>100.000000</td>\n      <td>5.391634e+06</td>\n      <td>0.009449</td>\n      <td>118.01</td>\n      <td>117.24</td>\n      <td>117.46</td>\n      <td>0.114449</td>\n      <td>0.093733</td>\n      <td>0.144801</td>\n      <td>1.0</td>\n    </tr>\n  </tbody>\n</table>\n<p>2803 rows × 16 columns</p>\n</div>"
     },
     "metadata": {},
     "execution_count": 181
    }
   ],
   "source": [
    "df.dropna()"
   ]
  },
  {
   "cell_type": "code",
   "execution_count": 182,
   "metadata": {},
   "outputs": [],
   "source": [
    "# Model Data base - where I will train and test the Decision Tree\n",
    "df_ModelDB = df[:'2021']"
   ]
  },
  {
   "cell_type": "code",
   "execution_count": 183,
   "metadata": {},
   "outputs": [
    {
     "output_type": "execute_result",
     "data": {
      "text/plain": [
       "              open    high     low  adj_close   volume     RSI_14      STO_14  \\\n",
       "2020-12-22  111.62  112.54  111.27     112.25  5273026  65.935933   70.205479   \n",
       "2020-12-23  112.55  113.91  112.52     113.14  4856930  68.046601   83.716475   \n",
       "2020-12-28  114.00  114.77  113.77     114.70  5433712  71.392566  100.000000   \n",
       "2020-12-29  115.00  115.40  114.25     114.97  4278894  71.940228  100.000000   \n",
       "2020-12-30  115.32  115.70  114.50     114.65  7741592  70.224328   94.838710   \n",
       "\n",
       "                     CHO    return  5d_close  10d_close  15d_close  \\\n",
       "2020-12-22  2.793871e+06  0.007359    111.76     109.44     107.05   \n",
       "2020-12-23  2.273467e+06  0.007929    113.35     108.77     107.75   \n",
       "2020-12-28  3.340756e+06  0.013788    113.99     110.70     108.15   \n",
       "2020-12-29  3.816996e+06  0.002354    113.50     110.79     109.43   \n",
       "2020-12-30  1.817396e+06 -0.002783    111.43     110.20     109.31   \n",
       "\n",
       "            SD_close_5d  SD_close_10d  SD_close_15d  Target  \n",
       "2020-12-22     0.200033      0.179746      0.150958     1.0  \n",
       "2020-12-23     0.177391      0.174424      0.151615     1.0  \n",
       "2020-12-28     0.202311      0.166655      0.157612     1.0  \n",
       "2020-12-29     0.196114      0.166111      0.153846     0.0  \n",
       "2020-12-30     0.099231      0.162673      0.154873     0.0  "
      ],
      "text/html": "<div>\n<style scoped>\n    .dataframe tbody tr th:only-of-type {\n        vertical-align: middle;\n    }\n\n    .dataframe tbody tr th {\n        vertical-align: top;\n    }\n\n    .dataframe thead th {\n        text-align: right;\n    }\n</style>\n<table border=\"1\" class=\"dataframe\">\n  <thead>\n    <tr style=\"text-align: right;\">\n      <th></th>\n      <th>open</th>\n      <th>high</th>\n      <th>low</th>\n      <th>adj_close</th>\n      <th>volume</th>\n      <th>RSI_14</th>\n      <th>STO_14</th>\n      <th>CHO</th>\n      <th>return</th>\n      <th>5d_close</th>\n      <th>10d_close</th>\n      <th>15d_close</th>\n      <th>SD_close_5d</th>\n      <th>SD_close_10d</th>\n      <th>SD_close_15d</th>\n      <th>Target</th>\n    </tr>\n  </thead>\n  <tbody>\n    <tr>\n      <th>2020-12-22</th>\n      <td>111.62</td>\n      <td>112.54</td>\n      <td>111.27</td>\n      <td>112.25</td>\n      <td>5273026</td>\n      <td>65.935933</td>\n      <td>70.205479</td>\n      <td>2.793871e+06</td>\n      <td>0.007359</td>\n      <td>111.76</td>\n      <td>109.44</td>\n      <td>107.05</td>\n      <td>0.200033</td>\n      <td>0.179746</td>\n      <td>0.150958</td>\n      <td>1.0</td>\n    </tr>\n    <tr>\n      <th>2020-12-23</th>\n      <td>112.55</td>\n      <td>113.91</td>\n      <td>112.52</td>\n      <td>113.14</td>\n      <td>4856930</td>\n      <td>68.046601</td>\n      <td>83.716475</td>\n      <td>2.273467e+06</td>\n      <td>0.007929</td>\n      <td>113.35</td>\n      <td>108.77</td>\n      <td>107.75</td>\n      <td>0.177391</td>\n      <td>0.174424</td>\n      <td>0.151615</td>\n      <td>1.0</td>\n    </tr>\n    <tr>\n      <th>2020-12-28</th>\n      <td>114.00</td>\n      <td>114.77</td>\n      <td>113.77</td>\n      <td>114.70</td>\n      <td>5433712</td>\n      <td>71.392566</td>\n      <td>100.000000</td>\n      <td>3.340756e+06</td>\n      <td>0.013788</td>\n      <td>113.99</td>\n      <td>110.70</td>\n      <td>108.15</td>\n      <td>0.202311</td>\n      <td>0.166655</td>\n      <td>0.157612</td>\n      <td>1.0</td>\n    </tr>\n    <tr>\n      <th>2020-12-29</th>\n      <td>115.00</td>\n      <td>115.40</td>\n      <td>114.25</td>\n      <td>114.97</td>\n      <td>4278894</td>\n      <td>71.940228</td>\n      <td>100.000000</td>\n      <td>3.816996e+06</td>\n      <td>0.002354</td>\n      <td>113.50</td>\n      <td>110.79</td>\n      <td>109.43</td>\n      <td>0.196114</td>\n      <td>0.166111</td>\n      <td>0.153846</td>\n      <td>0.0</td>\n    </tr>\n    <tr>\n      <th>2020-12-30</th>\n      <td>115.32</td>\n      <td>115.70</td>\n      <td>114.50</td>\n      <td>114.65</td>\n      <td>7741592</td>\n      <td>70.224328</td>\n      <td>94.838710</td>\n      <td>1.817396e+06</td>\n      <td>-0.002783</td>\n      <td>111.43</td>\n      <td>110.20</td>\n      <td>109.31</td>\n      <td>0.099231</td>\n      <td>0.162673</td>\n      <td>0.154873</td>\n      <td>0.0</td>\n    </tr>\n  </tbody>\n</table>\n</div>"
     },
     "metadata": {},
     "execution_count": 183
    }
   ],
   "source": [
    "df_ModelDB.tail()"
   ]
  },
  {
   "cell_type": "code",
   "execution_count": 184,
   "metadata": {},
   "outputs": [],
   "source": [
    "#validation dataset\n",
    "df_validation = df['2021':]"
   ]
  },
  {
   "source": [
    "### Model implementation"
   ],
   "cell_type": "markdown",
   "metadata": {}
  },
  {
   "cell_type": "code",
   "execution_count": 185,
   "metadata": {},
   "outputs": [],
   "source": [
    "# split out validation dataset for the end\n",
    "from sklearn.model_selection import train_test_split"
   ]
  },
  {
   "cell_type": "code",
   "execution_count": 186,
   "metadata": {},
   "outputs": [],
   "source": [
    "X =  df_ModelDB.iloc[:, :-1].drop('return',axis=1)"
   ]
  },
  {
   "cell_type": "code",
   "execution_count": 187,
   "metadata": {},
   "outputs": [],
   "source": [
    "y = df_ModelDB.iloc[:, -1]"
   ]
  },
  {
   "cell_type": "code",
   "execution_count": 189,
   "metadata": {},
   "outputs": [],
   "source": [
    "X_train, X_test, y_train, y_test = train_test_split(X, y, test_size=0.3, stratify=y,random_state=42)"
   ]
  },
  {
   "cell_type": "code",
   "execution_count": 191,
   "metadata": {},
   "outputs": [],
   "source": [
    "from sklearn.tree import DecisionTreeClassifier\n",
    "from sklearn.metrics import accuracy_score"
   ]
  },
  {
   "cell_type": "code",
   "execution_count": 192,
   "metadata": {},
   "outputs": [],
   "source": [
    "dt = DecisionTreeClassifier(max_depth=5,random_state=1)"
   ]
  },
  {
   "cell_type": "code",
   "execution_count": 193,
   "metadata": {},
   "outputs": [
    {
     "output_type": "execute_result",
     "data": {
      "text/plain": [
       "DecisionTreeClassifier(max_depth=5, random_state=1)"
      ]
     },
     "metadata": {},
     "execution_count": 193
    }
   ],
   "source": [
    "dt.fit(X_train,y_train)"
   ]
  },
  {
   "cell_type": "code",
   "execution_count": 194,
   "metadata": {},
   "outputs": [],
   "source": [
    "y_pred = dt.predict(X_test)"
   ]
  },
  {
   "cell_type": "code",
   "execution_count": 195,
   "metadata": {},
   "outputs": [
    {
     "output_type": "execute_result",
     "data": {
      "text/plain": [
       "0.5166461159062885"
      ]
     },
     "metadata": {},
     "execution_count": 195
    }
   ],
   "source": [
    "accuracy_score(y_test, y_pred)"
   ]
  },
  {
   "cell_type": "code",
   "execution_count": null,
   "metadata": {},
   "outputs": [],
   "source": []
  }
 ]
}