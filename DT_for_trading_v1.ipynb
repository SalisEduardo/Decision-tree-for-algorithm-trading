{
 "metadata": {
  "language_info": {
   "codemirror_mode": {
    "name": "ipython",
    "version": 3
   },
   "file_extension": ".py",
   "mimetype": "text/x-python",
   "name": "python",
   "nbconvert_exporter": "python",
   "pygments_lexer": "ipython3",
   "version": "3.8.5"
  },
  "orig_nbformat": 2,
  "kernelspec": {
   "name": "python3",
   "display_name": "Python 3.8.5 64-bit ('base': conda)"
  },
  "interpreter": {
   "hash": "4b41f1d7901c245d236e028006d52e8373fd7c96b9ffb251bc24e32ccdfcdcfe"
  }
 },
 "nbformat": 4,
 "nbformat_minor": 2,
 "cells": [
  {
   "source": [
    "### Set Up"
   ],
   "cell_type": "markdown",
   "metadata": {}
  },
  {
   "cell_type": "code",
   "execution_count": 181,
   "metadata": {},
   "outputs": [],
   "source": [
    "import pandas as pd\n",
    "import numpy as np\n",
    "import seaborn as sns  \n",
    "from pylab import mpl, plt "
   ]
  },
  {
   "cell_type": "code",
   "execution_count": 182,
   "metadata": {},
   "outputs": [],
   "source": [
    "plt.style.use('seaborn')\n",
    "mpl.rcParams['font.family'] = 'serif'\n",
    "%matplotlib inline"
   ]
  },
  {
   "cell_type": "code",
   "execution_count": 183,
   "metadata": {},
   "outputs": [],
   "source": [
    "bova = pd.read_csv('bova11_TA_v1.csv',index_col=0)"
   ]
  },
  {
   "cell_type": "code",
   "execution_count": 184,
   "metadata": {},
   "outputs": [
    {
     "output_type": "execute_result",
     "data": {
      "text/plain": [
       "             open   high    low  adjusted close  volume  RSI_14  STO_14  CHO  \\\n",
       "2010-01-04  68.55  69.45  68.30           69.37  168379     NaN     NaN  NaN   \n",
       "2010-01-05  69.46  70.03  69.32           69.90  179175     NaN     NaN  NaN   \n",
       "2010-01-06  69.74  70.32  69.70           70.30  187683     NaN     NaN  NaN   \n",
       "2010-01-07  69.52  70.13  69.52           70.00  105126     NaN     NaN  NaN   \n",
       "2010-01-08  69.41  70.00  69.31           69.48  177077     NaN     NaN  NaN   \n",
       "\n",
       "             returns  \n",
       "2010-01-04       NaN  \n",
       "2010-01-05  0.007640  \n",
       "2010-01-06  0.005722  \n",
       "2010-01-07 -0.004267  \n",
       "2010-01-08 -0.007429  "
      ],
      "text/html": "<div>\n<style scoped>\n    .dataframe tbody tr th:only-of-type {\n        vertical-align: middle;\n    }\n\n    .dataframe tbody tr th {\n        vertical-align: top;\n    }\n\n    .dataframe thead th {\n        text-align: right;\n    }\n</style>\n<table border=\"1\" class=\"dataframe\">\n  <thead>\n    <tr style=\"text-align: right;\">\n      <th></th>\n      <th>open</th>\n      <th>high</th>\n      <th>low</th>\n      <th>adjusted close</th>\n      <th>volume</th>\n      <th>RSI_14</th>\n      <th>STO_14</th>\n      <th>CHO</th>\n      <th>returns</th>\n    </tr>\n  </thead>\n  <tbody>\n    <tr>\n      <th>2010-01-04</th>\n      <td>68.55</td>\n      <td>69.45</td>\n      <td>68.30</td>\n      <td>69.37</td>\n      <td>168379</td>\n      <td>NaN</td>\n      <td>NaN</td>\n      <td>NaN</td>\n      <td>NaN</td>\n    </tr>\n    <tr>\n      <th>2010-01-05</th>\n      <td>69.46</td>\n      <td>70.03</td>\n      <td>69.32</td>\n      <td>69.90</td>\n      <td>179175</td>\n      <td>NaN</td>\n      <td>NaN</td>\n      <td>NaN</td>\n      <td>0.007640</td>\n    </tr>\n    <tr>\n      <th>2010-01-06</th>\n      <td>69.74</td>\n      <td>70.32</td>\n      <td>69.70</td>\n      <td>70.30</td>\n      <td>187683</td>\n      <td>NaN</td>\n      <td>NaN</td>\n      <td>NaN</td>\n      <td>0.005722</td>\n    </tr>\n    <tr>\n      <th>2010-01-07</th>\n      <td>69.52</td>\n      <td>70.13</td>\n      <td>69.52</td>\n      <td>70.00</td>\n      <td>105126</td>\n      <td>NaN</td>\n      <td>NaN</td>\n      <td>NaN</td>\n      <td>-0.004267</td>\n    </tr>\n    <tr>\n      <th>2010-01-08</th>\n      <td>69.41</td>\n      <td>70.00</td>\n      <td>69.31</td>\n      <td>69.48</td>\n      <td>177077</td>\n      <td>NaN</td>\n      <td>NaN</td>\n      <td>NaN</td>\n      <td>-0.007429</td>\n    </tr>\n  </tbody>\n</table>\n</div>"
     },
     "metadata": {},
     "execution_count": 184
    }
   ],
   "source": [
    "bova.head()"
   ]
  },
  {
   "cell_type": "code",
   "execution_count": 185,
   "metadata": {},
   "outputs": [],
   "source": [
    "bova = bova.rename(columns={\"adjusted close\": \"adj_close\",\"returns\": \"return\"}) "
   ]
  },
  {
   "source": [
    "### Creatimg  new features"
   ],
   "cell_type": "markdown",
   "metadata": {}
  },
  {
   "cell_type": "code",
   "execution_count": 186,
   "metadata": {},
   "outputs": [
    {
     "output_type": "execute_result",
     "data": {
      "text/plain": [
       "\"\\nbova['5d_close']= bova['adj_close'].shift(5)\\nbova['10d_close']= bova['adj_close'].shift(10)\\nbova['15d_close']= bova['adj_close'].shift(15)\\n\""
      ]
     },
     "metadata": {},
     "execution_count": 186
    }
   ],
   "source": [
    "#Close price of N day before\n",
    "'''\n",
    "bova['5d_close']= bova['adj_close'].shift(5)\n",
    "bova['10d_close']= bova['adj_close'].shift(10)\n",
    "bova['15d_close']= bova['adj_close'].shift(15)\n",
    "'''"
   ]
  },
  {
   "cell_type": "code",
   "execution_count": 187,
   "metadata": {},
   "outputs": [
    {
     "output_type": "execute_result",
     "data": {
      "text/plain": [
       "\"\\nbova['SD_close_5d']= bova['return'].rolling(5).std()*np.sqrt(252)\\nbova['SD_close_10d']= bova['return'].rolling(10).std()*np.sqrt(252)\\nbova['SD_close_15d']= bova['return'].rolling(15).std()*np.sqrt(252)\\n\""
      ]
     },
     "metadata": {},
     "execution_count": 187
    }
   ],
   "source": [
    "#Rolling volatility of a window  of N days\n",
    "'''\n",
    "bova['SD_close_5d']= bova['return'].rolling(5).std()*np.sqrt(252)\n",
    "bova['SD_close_10d']= bova['return'].rolling(10).std()*np.sqrt(252)\n",
    "bova['SD_close_15d']= bova['return'].rolling(15).std()*np.sqrt(252)\n",
    "'''"
   ]
  },
  {
   "cell_type": "code",
   "execution_count": 188,
   "metadata": {},
   "outputs": [],
   "source": [
    "#My goal is to predict if the return on the next day will be positive\n",
    "bova['Target'] = np.where(bova['return'] > 0 ,1,0)"
   ]
  },
  {
   "cell_type": "code",
   "execution_count": 189,
   "metadata": {},
   "outputs": [
    {
     "output_type": "execute_result",
     "data": {
      "text/plain": [
       "             open   high    low  adj_close  volume  RSI_14  STO_14  CHO  \\\n",
       "2010-01-04  68.55  69.45  68.30      69.37  168379     NaN     NaN  NaN   \n",
       "2010-01-05  69.46  70.03  69.32      69.90  179175     NaN     NaN  NaN   \n",
       "2010-01-06  69.74  70.32  69.70      70.30  187683     NaN     NaN  NaN   \n",
       "2010-01-07  69.52  70.13  69.52      70.00  105126     NaN     NaN  NaN   \n",
       "2010-01-08  69.41  70.00  69.31      69.48  177077     NaN     NaN  NaN   \n",
       "\n",
       "              return  Target  \n",
       "2010-01-04       NaN       0  \n",
       "2010-01-05  0.007640       1  \n",
       "2010-01-06  0.005722       1  \n",
       "2010-01-07 -0.004267       0  \n",
       "2010-01-08 -0.007429       0  "
      ],
      "text/html": "<div>\n<style scoped>\n    .dataframe tbody tr th:only-of-type {\n        vertical-align: middle;\n    }\n\n    .dataframe tbody tr th {\n        vertical-align: top;\n    }\n\n    .dataframe thead th {\n        text-align: right;\n    }\n</style>\n<table border=\"1\" class=\"dataframe\">\n  <thead>\n    <tr style=\"text-align: right;\">\n      <th></th>\n      <th>open</th>\n      <th>high</th>\n      <th>low</th>\n      <th>adj_close</th>\n      <th>volume</th>\n      <th>RSI_14</th>\n      <th>STO_14</th>\n      <th>CHO</th>\n      <th>return</th>\n      <th>Target</th>\n    </tr>\n  </thead>\n  <tbody>\n    <tr>\n      <th>2010-01-04</th>\n      <td>68.55</td>\n      <td>69.45</td>\n      <td>68.30</td>\n      <td>69.37</td>\n      <td>168379</td>\n      <td>NaN</td>\n      <td>NaN</td>\n      <td>NaN</td>\n      <td>NaN</td>\n      <td>0</td>\n    </tr>\n    <tr>\n      <th>2010-01-05</th>\n      <td>69.46</td>\n      <td>70.03</td>\n      <td>69.32</td>\n      <td>69.90</td>\n      <td>179175</td>\n      <td>NaN</td>\n      <td>NaN</td>\n      <td>NaN</td>\n      <td>0.007640</td>\n      <td>1</td>\n    </tr>\n    <tr>\n      <th>2010-01-06</th>\n      <td>69.74</td>\n      <td>70.32</td>\n      <td>69.70</td>\n      <td>70.30</td>\n      <td>187683</td>\n      <td>NaN</td>\n      <td>NaN</td>\n      <td>NaN</td>\n      <td>0.005722</td>\n      <td>1</td>\n    </tr>\n    <tr>\n      <th>2010-01-07</th>\n      <td>69.52</td>\n      <td>70.13</td>\n      <td>69.52</td>\n      <td>70.00</td>\n      <td>105126</td>\n      <td>NaN</td>\n      <td>NaN</td>\n      <td>NaN</td>\n      <td>-0.004267</td>\n      <td>0</td>\n    </tr>\n    <tr>\n      <th>2010-01-08</th>\n      <td>69.41</td>\n      <td>70.00</td>\n      <td>69.31</td>\n      <td>69.48</td>\n      <td>177077</td>\n      <td>NaN</td>\n      <td>NaN</td>\n      <td>NaN</td>\n      <td>-0.007429</td>\n      <td>0</td>\n    </tr>\n  </tbody>\n</table>\n</div>"
     },
     "metadata": {},
     "execution_count": 189
    }
   ],
   "source": [
    "bova.head()"
   ]
  },
  {
   "cell_type": "code",
   "execution_count": 190,
   "metadata": {},
   "outputs": [],
   "source": [
    "df = bova.dropna()"
   ]
  },
  {
   "cell_type": "code",
   "execution_count": 191,
   "metadata": {},
   "outputs": [
    {
     "output_type": "execute_result",
     "data": {
      "text/plain": [
       "             open   high    low  adj_close  volume     RSI_14    STO_14  \\\n",
       "2010-01-22  65.60  65.96  64.91      65.59  653711  26.550868  0.000000   \n",
       "2010-01-26  65.05  65.36  64.12      64.98  457095  24.549947  0.000000   \n",
       "2010-01-27  64.99  65.00  63.90      64.90  444017  24.291395  0.000000   \n",
       "2010-01-28  65.06  66.49  63.98      65.20  243961  27.380053  5.882353   \n",
       "2010-01-29  65.50  65.99  64.70      64.90  129331  26.227741  0.000000   \n",
       "\n",
       "                      CHO    return  Target  \n",
       "2010-01-22 -230526.994114 -0.004704       0  \n",
       "2010-01-26 -153660.903303 -0.009300       0  \n",
       "2010-01-27    7344.691172 -0.001231       0  \n",
       "2010-01-28   70378.105506  0.004622       1  \n",
       "2010-01-29   61375.649488 -0.004601       0  "
      ],
      "text/html": "<div>\n<style scoped>\n    .dataframe tbody tr th:only-of-type {\n        vertical-align: middle;\n    }\n\n    .dataframe tbody tr th {\n        vertical-align: top;\n    }\n\n    .dataframe thead th {\n        text-align: right;\n    }\n</style>\n<table border=\"1\" class=\"dataframe\">\n  <thead>\n    <tr style=\"text-align: right;\">\n      <th></th>\n      <th>open</th>\n      <th>high</th>\n      <th>low</th>\n      <th>adj_close</th>\n      <th>volume</th>\n      <th>RSI_14</th>\n      <th>STO_14</th>\n      <th>CHO</th>\n      <th>return</th>\n      <th>Target</th>\n    </tr>\n  </thead>\n  <tbody>\n    <tr>\n      <th>2010-01-22</th>\n      <td>65.60</td>\n      <td>65.96</td>\n      <td>64.91</td>\n      <td>65.59</td>\n      <td>653711</td>\n      <td>26.550868</td>\n      <td>0.000000</td>\n      <td>-230526.994114</td>\n      <td>-0.004704</td>\n      <td>0</td>\n    </tr>\n    <tr>\n      <th>2010-01-26</th>\n      <td>65.05</td>\n      <td>65.36</td>\n      <td>64.12</td>\n      <td>64.98</td>\n      <td>457095</td>\n      <td>24.549947</td>\n      <td>0.000000</td>\n      <td>-153660.903303</td>\n      <td>-0.009300</td>\n      <td>0</td>\n    </tr>\n    <tr>\n      <th>2010-01-27</th>\n      <td>64.99</td>\n      <td>65.00</td>\n      <td>63.90</td>\n      <td>64.90</td>\n      <td>444017</td>\n      <td>24.291395</td>\n      <td>0.000000</td>\n      <td>7344.691172</td>\n      <td>-0.001231</td>\n      <td>0</td>\n    </tr>\n    <tr>\n      <th>2010-01-28</th>\n      <td>65.06</td>\n      <td>66.49</td>\n      <td>63.98</td>\n      <td>65.20</td>\n      <td>243961</td>\n      <td>27.380053</td>\n      <td>5.882353</td>\n      <td>70378.105506</td>\n      <td>0.004622</td>\n      <td>1</td>\n    </tr>\n    <tr>\n      <th>2010-01-29</th>\n      <td>65.50</td>\n      <td>65.99</td>\n      <td>64.70</td>\n      <td>64.90</td>\n      <td>129331</td>\n      <td>26.227741</td>\n      <td>0.000000</td>\n      <td>61375.649488</td>\n      <td>-0.004601</td>\n      <td>0</td>\n    </tr>\n  </tbody>\n</table>\n</div>"
     },
     "metadata": {},
     "execution_count": 191
    }
   ],
   "source": [
    "df.head()"
   ]
  },
  {
   "cell_type": "code",
   "execution_count": 192,
   "metadata": {},
   "outputs": [
    {
     "output_type": "execute_result",
     "data": {
      "text/plain": [
       "             open   high    low  adj_close  volume     RSI_14    STO_14  \\\n",
       "2010-01-22  65.60  65.96  64.91      65.59  653711  26.550868  0.000000   \n",
       "2010-01-26  65.05  65.36  64.12      64.98  457095  24.549947  0.000000   \n",
       "2010-01-27  64.99  65.00  63.90      64.90  444017  24.291395  0.000000   \n",
       "2010-01-28  65.06  66.49  63.98      65.20  243961  27.380053  5.882353   \n",
       "2010-01-29  65.50  65.99  64.70      64.90  129331  26.227741  0.000000   \n",
       "\n",
       "                      CHO    return  Target  \n",
       "2010-01-22 -230526.994114 -0.004704       0  \n",
       "2010-01-26 -153660.903303 -0.009300       0  \n",
       "2010-01-27    7344.691172 -0.001231       0  \n",
       "2010-01-28   70378.105506  0.004622       1  \n",
       "2010-01-29   61375.649488 -0.004601       0  "
      ],
      "text/html": "<div>\n<style scoped>\n    .dataframe tbody tr th:only-of-type {\n        vertical-align: middle;\n    }\n\n    .dataframe tbody tr th {\n        vertical-align: top;\n    }\n\n    .dataframe thead th {\n        text-align: right;\n    }\n</style>\n<table border=\"1\" class=\"dataframe\">\n  <thead>\n    <tr style=\"text-align: right;\">\n      <th></th>\n      <th>open</th>\n      <th>high</th>\n      <th>low</th>\n      <th>adj_close</th>\n      <th>volume</th>\n      <th>RSI_14</th>\n      <th>STO_14</th>\n      <th>CHO</th>\n      <th>return</th>\n      <th>Target</th>\n    </tr>\n  </thead>\n  <tbody>\n    <tr>\n      <th>2010-01-22</th>\n      <td>65.60</td>\n      <td>65.96</td>\n      <td>64.91</td>\n      <td>65.59</td>\n      <td>653711</td>\n      <td>26.550868</td>\n      <td>0.000000</td>\n      <td>-230526.994114</td>\n      <td>-0.004704</td>\n      <td>0</td>\n    </tr>\n    <tr>\n      <th>2010-01-26</th>\n      <td>65.05</td>\n      <td>65.36</td>\n      <td>64.12</td>\n      <td>64.98</td>\n      <td>457095</td>\n      <td>24.549947</td>\n      <td>0.000000</td>\n      <td>-153660.903303</td>\n      <td>-0.009300</td>\n      <td>0</td>\n    </tr>\n    <tr>\n      <th>2010-01-27</th>\n      <td>64.99</td>\n      <td>65.00</td>\n      <td>63.90</td>\n      <td>64.90</td>\n      <td>444017</td>\n      <td>24.291395</td>\n      <td>0.000000</td>\n      <td>7344.691172</td>\n      <td>-0.001231</td>\n      <td>0</td>\n    </tr>\n    <tr>\n      <th>2010-01-28</th>\n      <td>65.06</td>\n      <td>66.49</td>\n      <td>63.98</td>\n      <td>65.20</td>\n      <td>243961</td>\n      <td>27.380053</td>\n      <td>5.882353</td>\n      <td>70378.105506</td>\n      <td>0.004622</td>\n      <td>1</td>\n    </tr>\n    <tr>\n      <th>2010-01-29</th>\n      <td>65.50</td>\n      <td>65.99</td>\n      <td>64.70</td>\n      <td>64.90</td>\n      <td>129331</td>\n      <td>26.227741</td>\n      <td>0.000000</td>\n      <td>61375.649488</td>\n      <td>-0.004601</td>\n      <td>0</td>\n    </tr>\n  </tbody>\n</table>\n</div>"
     },
     "metadata": {},
     "execution_count": 192
    }
   ],
   "source": [
    "df.head()"
   ]
  },
  {
   "cell_type": "code",
   "execution_count": 193,
   "metadata": {},
   "outputs": [
    {
     "output_type": "stream",
     "name": "stderr",
     "text": [
      "<ipython-input-193-b33f78d9fd7b>:2: SettingWithCopyWarning: \nA value is trying to be set on a copy of a slice from a DataFrame.\nTry using .loc[row_indexer,col_indexer] = value instead\n\nSee the caveats in the documentation: https://pandas.pydata.org/pandas-docs/stable/user_guide/indexing.html#returning-a-view-versus-a-copy\n  df['Target'] = df['Target'].shift(-1)\n"
     ]
    }
   ],
   "source": [
    "# The intention is to predcit if the return in the next day will be positive or not\n",
    "df['Target'] = df['Target'].shift(-1)"
   ]
  },
  {
   "cell_type": "code",
   "execution_count": 194,
   "metadata": {},
   "outputs": [
    {
     "output_type": "execute_result",
     "data": {
      "text/plain": [
       "             open   high    low  adj_close  volume     RSI_14    STO_14  \\\n",
       "2010-01-22  65.60  65.96  64.91      65.59  653711  26.550868  0.000000   \n",
       "2010-01-26  65.05  65.36  64.12      64.98  457095  24.549947  0.000000   \n",
       "2010-01-27  64.99  65.00  63.90      64.90  444017  24.291395  0.000000   \n",
       "2010-01-28  65.06  66.49  63.98      65.20  243961  27.380053  5.882353   \n",
       "2010-01-29  65.50  65.99  64.70      64.90  129331  26.227741  0.000000   \n",
       "\n",
       "                      CHO    return  Target  \n",
       "2010-01-22 -230526.994114 -0.004704     0.0  \n",
       "2010-01-26 -153660.903303 -0.009300     0.0  \n",
       "2010-01-27    7344.691172 -0.001231     1.0  \n",
       "2010-01-28   70378.105506  0.004622     0.0  \n",
       "2010-01-29   61375.649488 -0.004601     1.0  "
      ],
      "text/html": "<div>\n<style scoped>\n    .dataframe tbody tr th:only-of-type {\n        vertical-align: middle;\n    }\n\n    .dataframe tbody tr th {\n        vertical-align: top;\n    }\n\n    .dataframe thead th {\n        text-align: right;\n    }\n</style>\n<table border=\"1\" class=\"dataframe\">\n  <thead>\n    <tr style=\"text-align: right;\">\n      <th></th>\n      <th>open</th>\n      <th>high</th>\n      <th>low</th>\n      <th>adj_close</th>\n      <th>volume</th>\n      <th>RSI_14</th>\n      <th>STO_14</th>\n      <th>CHO</th>\n      <th>return</th>\n      <th>Target</th>\n    </tr>\n  </thead>\n  <tbody>\n    <tr>\n      <th>2010-01-22</th>\n      <td>65.60</td>\n      <td>65.96</td>\n      <td>64.91</td>\n      <td>65.59</td>\n      <td>653711</td>\n      <td>26.550868</td>\n      <td>0.000000</td>\n      <td>-230526.994114</td>\n      <td>-0.004704</td>\n      <td>0.0</td>\n    </tr>\n    <tr>\n      <th>2010-01-26</th>\n      <td>65.05</td>\n      <td>65.36</td>\n      <td>64.12</td>\n      <td>64.98</td>\n      <td>457095</td>\n      <td>24.549947</td>\n      <td>0.000000</td>\n      <td>-153660.903303</td>\n      <td>-0.009300</td>\n      <td>0.0</td>\n    </tr>\n    <tr>\n      <th>2010-01-27</th>\n      <td>64.99</td>\n      <td>65.00</td>\n      <td>63.90</td>\n      <td>64.90</td>\n      <td>444017</td>\n      <td>24.291395</td>\n      <td>0.000000</td>\n      <td>7344.691172</td>\n      <td>-0.001231</td>\n      <td>1.0</td>\n    </tr>\n    <tr>\n      <th>2010-01-28</th>\n      <td>65.06</td>\n      <td>66.49</td>\n      <td>63.98</td>\n      <td>65.20</td>\n      <td>243961</td>\n      <td>27.380053</td>\n      <td>5.882353</td>\n      <td>70378.105506</td>\n      <td>0.004622</td>\n      <td>0.0</td>\n    </tr>\n    <tr>\n      <th>2010-01-29</th>\n      <td>65.50</td>\n      <td>65.99</td>\n      <td>64.70</td>\n      <td>64.90</td>\n      <td>129331</td>\n      <td>26.227741</td>\n      <td>0.000000</td>\n      <td>61375.649488</td>\n      <td>-0.004601</td>\n      <td>1.0</td>\n    </tr>\n  </tbody>\n</table>\n</div>"
     },
     "metadata": {},
     "execution_count": 194
    }
   ],
   "source": [
    "df.head()"
   ]
  },
  {
   "cell_type": "code",
   "execution_count": 195,
   "metadata": {},
   "outputs": [],
   "source": [
    "df = df.dropna(axis=0)"
   ]
  },
  {
   "cell_type": "code",
   "execution_count": 233,
   "metadata": {},
   "outputs": [
    {
     "output_type": "display_data",
     "data": {
      "text/plain": "<Figure size 432x288 with 1 Axes>",
      "image/svg+xml": "<?xml version=\"1.0\" encoding=\"utf-8\" standalone=\"no\"?>\n<!DOCTYPE svg PUBLIC \"-//W3C//DTD SVG 1.1//EN\"\n  \"http://www.w3.org/Graphics/SVG/1.1/DTD/svg11.dtd\">\n<!-- Created with matplotlib (https://matplotlib.org/) -->\n<svg height=\"269.389062pt\" version=\"1.1\" viewBox=\"0 0 381.65 269.389062\" width=\"381.65pt\" xmlns=\"http://www.w3.org/2000/svg\" xmlns:xlink=\"http://www.w3.org/1999/xlink\">\n <metadata>\n  <rdf:RDF xmlns:cc=\"http://creativecommons.org/ns#\" xmlns:dc=\"http://purl.org/dc/elements/1.1/\" xmlns:rdf=\"http://www.w3.org/1999/02/22-rdf-syntax-ns#\">\n   <cc:Work>\n    <dc:type rdf:resource=\"http://purl.org/dc/dcmitype/StillImage\"/>\n    <dc:date>2021-06-16T01:05:29.800671</dc:date>\n    <dc:format>image/svg+xml</dc:format>\n    <dc:creator>\n     <cc:Agent>\n      <dc:title>Matplotlib v3.3.2, https://matplotlib.org/</dc:title>\n     </cc:Agent>\n    </dc:creator>\n   </cc:Work>\n  </rdf:RDF>\n </metadata>\n <defs>\n  <style type=\"text/css\">*{stroke-linecap:butt;stroke-linejoin:round;}</style>\n </defs>\n <g id=\"figure_1\">\n  <g id=\"patch_1\">\n   <path d=\"M -0 269.389062 \nL 381.65 269.389062 \nL 381.65 0 \nL -0 0 \nz\n\" style=\"fill:none;\"/>\n  </g>\n  <g id=\"axes_1\">\n   <g id=\"patch_2\">\n    <path d=\"M 39.65 224.64 \nL 374.45 224.64 \nL 374.45 7.2 \nL 39.65 7.2 \nz\n\" style=\"fill:#eaeaf2;\"/>\n   </g>\n   <g id=\"matplotlib.axis_1\">\n    <g id=\"xtick_1\">\n     <g id=\"line2d_1\">\n      <path clip-path=\"url(#pbbd7a956a8)\" d=\"M 123.35 224.64 \nL 123.35 7.2 \n\" style=\"fill:none;stroke:#ffffff;stroke-linecap:round;\"/>\n     </g>\n     <g id=\"line2d_2\"/>\n     <g id=\"text_1\">\n      <!-- 0.0 -->\n      <g style=\"fill:#262626;\" transform=\"translate(126.109375 247.543125)rotate(-90)scale(0.1 -0.1)\">\n       <defs>\n        <path d=\"M 31.78125 3.421875 \nQ 39.265625 3.421875 42.96875 11.625 \nQ 46.6875 19.828125 46.6875 36.375 \nQ 46.6875 52.984375 42.96875 61.1875 \nQ 39.265625 69.390625 31.78125 69.390625 \nQ 24.3125 69.390625 20.59375 61.1875 \nQ 16.890625 52.984375 16.890625 36.375 \nQ 16.890625 19.828125 20.59375 11.625 \nQ 24.3125 3.421875 31.78125 3.421875 \nz\nM 31.78125 -1.421875 \nQ 19.921875 -1.421875 13.25 8.53125 \nQ 6.59375 18.5 6.59375 36.375 \nQ 6.59375 54.296875 13.25 64.25 \nQ 19.921875 74.21875 31.78125 74.21875 \nQ 43.703125 74.21875 50.34375 64.25 \nQ 56.984375 54.296875 56.984375 36.375 \nQ 56.984375 18.5 50.34375 8.53125 \nQ 43.703125 -1.421875 31.78125 -1.421875 \nz\n\" id=\"DejaVuSerif-48\"/>\n        <path d=\"M 9.421875 5.078125 \nQ 9.421875 7.8125 11.28125 9.71875 \nQ 13.140625 11.625 15.921875 11.625 \nQ 18.609375 11.625 20.5 9.71875 \nQ 22.40625 7.8125 22.40625 5.078125 \nQ 22.40625 2.390625 20.5 0.484375 \nQ 18.609375 -1.421875 15.921875 -1.421875 \nQ 13.140625 -1.421875 11.28125 0.453125 \nQ 9.421875 2.34375 9.421875 5.078125 \nz\n\" id=\"DejaVuSerif-46\"/>\n       </defs>\n       <use xlink:href=\"#DejaVuSerif-48\"/>\n       <use x=\"63.623047\" xlink:href=\"#DejaVuSerif-46\"/>\n       <use x=\"95.410156\" xlink:href=\"#DejaVuSerif-48\"/>\n      </g>\n     </g>\n    </g>\n    <g id=\"xtick_2\">\n     <g id=\"line2d_3\">\n      <path clip-path=\"url(#pbbd7a956a8)\" d=\"M 290.75 224.64 \nL 290.75 7.2 \n\" style=\"fill:none;stroke:#ffffff;stroke-linecap:round;\"/>\n     </g>\n     <g id=\"line2d_4\"/>\n     <g id=\"text_2\">\n      <!-- 1.0 -->\n      <g style=\"fill:#262626;\" transform=\"translate(293.509375 247.543125)rotate(-90)scale(0.1 -0.1)\">\n       <defs>\n        <path d=\"M 14.203125 0 \nL 14.203125 5.171875 \nL 26.90625 5.171875 \nL 26.90625 65.828125 \nL 12.203125 56.296875 \nL 12.203125 62.703125 \nL 29.984375 74.21875 \nL 36.71875 74.21875 \nL 36.71875 5.171875 \nL 49.421875 5.171875 \nL 49.421875 0 \nz\n\" id=\"DejaVuSerif-49\"/>\n       </defs>\n       <use xlink:href=\"#DejaVuSerif-49\"/>\n       <use x=\"63.623047\" xlink:href=\"#DejaVuSerif-46\"/>\n       <use x=\"95.410156\" xlink:href=\"#DejaVuSerif-48\"/>\n      </g>\n     </g>\n    </g>\n    <g id=\"text_3\">\n     <!-- Target -->\n     <g style=\"fill:#262626;\" transform=\"translate(188.912891 259.745)scale(0.11 -0.11)\">\n      <defs>\n       <path d=\"M 19.09375 0 \nL 19.09375 5.171875 \nL 28.421875 5.171875 \nL 28.421875 67.09375 \nL 6.984375 67.09375 \nL 6.984375 55.71875 \nL 0.984375 55.71875 \nL 0.984375 72.90625 \nL 65.71875 72.90625 \nL 65.71875 55.71875 \nL 59.71875 55.71875 \nL 59.71875 67.09375 \nL 38.28125 67.09375 \nL 38.28125 5.171875 \nL 47.609375 5.171875 \nL 47.609375 0 \nz\n\" id=\"DejaVuSerif-84\"/>\n       <path d=\"M 39.796875 16.3125 \nL 39.796875 27.296875 \nL 28.21875 27.296875 \nQ 21.53125 27.296875 18.25 24.40625 \nQ 14.984375 21.53125 14.984375 15.578125 \nQ 14.984375 10.15625 18.296875 6.984375 \nQ 21.625 3.8125 27.296875 3.8125 \nQ 32.90625 3.8125 36.34375 7.28125 \nQ 39.796875 10.75 39.796875 16.3125 \nz\nM 48.78125 32.421875 \nL 48.78125 5.171875 \nL 56.78125 5.171875 \nL 56.78125 0 \nL 39.796875 0 \nL 39.796875 5.609375 \nQ 36.8125 2 32.90625 0.28125 \nQ 29 -1.421875 23.78125 -1.421875 \nQ 15.140625 -1.421875 10.0625 3.171875 \nQ 4.984375 7.765625 4.984375 15.578125 \nQ 4.984375 23.640625 10.796875 28.078125 \nQ 16.609375 32.515625 27.203125 32.515625 \nL 39.796875 32.515625 \nL 39.796875 36.078125 \nQ 39.796875 42 36.203125 45.234375 \nQ 32.625 48.484375 26.125 48.484375 \nQ 20.75 48.484375 17.578125 46.046875 \nQ 14.40625 43.609375 13.625 38.8125 \nL 8.984375 38.8125 \nL 8.984375 49.3125 \nQ 13.671875 51.3125 18.09375 52.3125 \nQ 22.515625 53.328125 26.703125 53.328125 \nQ 37.5 53.328125 43.140625 47.96875 \nQ 48.78125 42.625 48.78125 32.421875 \nz\n\" id=\"DejaVuSerif-97\"/>\n       <path d=\"M 47.796875 52 \nL 47.796875 39.015625 \nL 42.625 39.015625 \nQ 42.390625 42.875 40.484375 44.78125 \nQ 38.578125 46.6875 34.90625 46.6875 \nQ 28.265625 46.6875 24.71875 42.09375 \nQ 21.1875 37.5 21.1875 28.90625 \nL 21.1875 5.171875 \nL 31.59375 5.171875 \nL 31.59375 0 \nL 4.109375 0 \nL 4.109375 5.171875 \nL 12.203125 5.171875 \nL 12.203125 46.78125 \nL 3.609375 46.78125 \nL 3.609375 51.90625 \nL 21.1875 51.90625 \nL 21.1875 42.671875 \nQ 23.828125 48.09375 27.96875 50.703125 \nQ 32.125 53.328125 38.09375 53.328125 \nQ 40.28125 53.328125 42.703125 52.984375 \nQ 45.125 52.640625 47.796875 52 \nz\n\" id=\"DejaVuSerif-114\"/>\n       <path d=\"M 52.484375 46.6875 \nL 52.484375 1.125 \nQ 52.484375 -10.0625 46.328125 -16.140625 \nQ 40.1875 -22.21875 28.8125 -22.21875 \nQ 23.6875 -22.21875 19 -21.28125 \nQ 14.3125 -20.359375 10.015625 -18.5 \nL 10.015625 -7.625 \nL 14.703125 -7.625 \nQ 15.578125 -12.703125 18.84375 -15.046875 \nQ 22.125 -17.390625 28.21875 -17.390625 \nQ 36.140625 -17.390625 39.8125 -12.921875 \nQ 43.5 -8.453125 43.5 1.125 \nL 43.5 8.109375 \nQ 40.875 3.21875 36.796875 0.890625 \nQ 32.71875 -1.421875 26.703125 -1.421875 \nQ 17.140625 -1.421875 11.0625 6.171875 \nQ 4.984375 13.765625 4.984375 25.984375 \nQ 4.984375 38.1875 11.03125 45.75 \nQ 17.09375 53.328125 26.703125 53.328125 \nQ 32.71875 53.328125 36.796875 51 \nQ 40.875 48.6875 43.5 43.796875 \nL 43.5 51.90625 \nL 61.078125 51.90625 \nL 61.078125 46.6875 \nz\nM 43.5 28.515625 \nQ 43.5 37.84375 39.90625 42.765625 \nQ 36.328125 47.703125 29.5 47.703125 \nQ 22.5625 47.703125 19.015625 42.234375 \nQ 15.484375 36.765625 15.484375 25.984375 \nQ 15.484375 15.234375 19.015625 9.71875 \nQ 22.5625 4.203125 29.5 4.203125 \nQ 36.328125 4.203125 39.90625 9.109375 \nQ 43.5 14.015625 43.5 23.390625 \nz\n\" id=\"DejaVuSerif-103\"/>\n       <path d=\"M 54.203125 25 \nL 15.484375 25 \nL 15.484375 24.609375 \nQ 15.484375 14.109375 19.4375 8.765625 \nQ 23.390625 3.421875 31.109375 3.421875 \nQ 37.015625 3.421875 40.796875 6.515625 \nQ 44.578125 9.625 46.09375 15.71875 \nL 53.328125 15.71875 \nQ 51.171875 7.171875 45.375 2.875 \nQ 39.59375 -1.421875 30.171875 -1.421875 \nQ 18.796875 -1.421875 11.890625 6.078125 \nQ 4.984375 13.578125 4.984375 25.984375 \nQ 4.984375 38.28125 11.765625 45.796875 \nQ 18.5625 53.328125 29.59375 53.328125 \nQ 41.359375 53.328125 47.65625 46.0625 \nQ 53.953125 38.8125 54.203125 25 \nz\nM 43.609375 30.171875 \nQ 43.3125 39.265625 39.765625 43.875 \nQ 36.234375 48.484375 29.59375 48.484375 \nQ 23.390625 48.484375 19.828125 43.84375 \nQ 16.265625 39.203125 15.484375 30.171875 \nz\n\" id=\"DejaVuSerif-101\"/>\n       <path d=\"M 10.796875 46.6875 \nL 2.875 46.6875 \nL 2.875 51.90625 \nL 10.796875 51.90625 \nL 10.796875 68.015625 \nL 19.828125 68.015625 \nL 19.828125 51.90625 \nL 36.71875 51.90625 \nL 36.71875 46.6875 \nL 19.828125 46.6875 \nL 19.828125 13.71875 \nQ 19.828125 7.125 21.09375 5.265625 \nQ 22.359375 3.421875 25.78125 3.421875 \nQ 29.296875 3.421875 30.90625 5.484375 \nQ 32.515625 7.5625 32.625 12.203125 \nL 39.40625 12.203125 \nQ 39.015625 5.125 35.546875 1.84375 \nQ 32.078125 -1.421875 25 -1.421875 \nQ 17.234375 -1.421875 14.015625 2.015625 \nQ 10.796875 5.46875 10.796875 13.71875 \nz\n\" id=\"DejaVuSerif-116\"/>\n      </defs>\n      <use xlink:href=\"#DejaVuSerif-84\"/>\n      <use x=\"58.949219\" xlink:href=\"#DejaVuSerif-97\"/>\n      <use x=\"118.568359\" xlink:href=\"#DejaVuSerif-114\"/>\n      <use x=\"166.371094\" xlink:href=\"#DejaVuSerif-103\"/>\n      <use x=\"230.384766\" xlink:href=\"#DejaVuSerif-101\"/>\n      <use x=\"289.564453\" xlink:href=\"#DejaVuSerif-116\"/>\n     </g>\n    </g>\n   </g>\n   <g id=\"matplotlib.axis_2\">\n    <g id=\"ytick_1\">\n     <g id=\"line2d_5\">\n      <path clip-path=\"url(#pbbd7a956a8)\" d=\"M 39.65 224.64 \nL 374.45 224.64 \n\" style=\"fill:none;stroke:#ffffff;stroke-linecap:round;\"/>\n     </g>\n     <g id=\"line2d_6\"/>\n     <g id=\"text_4\">\n      <!-- 0 -->\n      <g style=\"fill:#262626;\" transform=\"translate(26.2875 228.439219)scale(0.1 -0.1)\">\n       <use xlink:href=\"#DejaVuSerif-48\"/>\n      </g>\n     </g>\n    </g>\n    <g id=\"ytick_2\">\n     <g id=\"line2d_7\">\n      <path clip-path=\"url(#pbbd7a956a8)\" d=\"M 39.65 195.656695 \nL 374.45 195.656695 \n\" style=\"fill:none;stroke:#ffffff;stroke-linecap:round;\"/>\n     </g>\n     <g id=\"line2d_8\"/>\n     <g id=\"text_5\">\n      <!-- 200 -->\n      <g style=\"fill:#262626;\" transform=\"translate(13.5625 199.455914)scale(0.1 -0.1)\">\n       <defs>\n        <path d=\"M 12.796875 55.515625 \nL 7.328125 55.515625 \nL 7.328125 68.5 \nQ 12.546875 71.296875 17.84375 72.75 \nQ 23.140625 74.21875 28.21875 74.21875 \nQ 39.59375 74.21875 46.1875 68.703125 \nQ 52.78125 63.1875 52.78125 53.71875 \nQ 52.78125 43.015625 37.84375 28.125 \nQ 36.671875 27 36.078125 26.421875 \nL 17.671875 8.015625 \nL 48.09375 8.015625 \nL 48.09375 17 \nL 53.8125 17 \nL 53.8125 0 \nL 6.78125 0 \nL 6.78125 5.328125 \nL 28.90625 27.390625 \nQ 36.234375 34.71875 39.359375 40.84375 \nQ 42.484375 46.96875 42.484375 53.71875 \nQ 42.484375 61.078125 38.640625 65.234375 \nQ 34.8125 69.390625 28.078125 69.390625 \nQ 21.09375 69.390625 17.28125 65.921875 \nQ 13.484375 62.453125 12.796875 55.515625 \nz\n\" id=\"DejaVuSerif-50\"/>\n       </defs>\n       <use xlink:href=\"#DejaVuSerif-50\"/>\n       <use x=\"63.623047\" xlink:href=\"#DejaVuSerif-48\"/>\n       <use x=\"127.246094\" xlink:href=\"#DejaVuSerif-48\"/>\n      </g>\n     </g>\n    </g>\n    <g id=\"ytick_3\">\n     <g id=\"line2d_9\">\n      <path clip-path=\"url(#pbbd7a956a8)\" d=\"M 39.65 166.67339 \nL 374.45 166.67339 \n\" style=\"fill:none;stroke:#ffffff;stroke-linecap:round;\"/>\n     </g>\n     <g id=\"line2d_10\"/>\n     <g id=\"text_6\">\n      <!-- 400 -->\n      <g style=\"fill:#262626;\" transform=\"translate(13.5625 170.472609)scale(0.1 -0.1)\">\n       <defs>\n        <path d=\"M 34.90625 24.703125 \nL 34.90625 63.484375 \nL 10.015625 24.703125 \nz\nM 56.390625 0 \nL 23.1875 0 \nL 23.1875 5.171875 \nL 34.90625 5.171875 \nL 34.90625 19.484375 \nL 3.078125 19.484375 \nL 3.078125 24.8125 \nL 35.015625 74.21875 \nL 44.671875 74.21875 \nL 44.671875 24.703125 \nL 58.59375 24.703125 \nL 58.59375 19.484375 \nL 44.671875 19.484375 \nL 44.671875 5.171875 \nL 56.390625 5.171875 \nz\n\" id=\"DejaVuSerif-52\"/>\n       </defs>\n       <use xlink:href=\"#DejaVuSerif-52\"/>\n       <use x=\"63.623047\" xlink:href=\"#DejaVuSerif-48\"/>\n       <use x=\"127.246094\" xlink:href=\"#DejaVuSerif-48\"/>\n      </g>\n     </g>\n    </g>\n    <g id=\"ytick_4\">\n     <g id=\"line2d_11\">\n      <path clip-path=\"url(#pbbd7a956a8)\" d=\"M 39.65 137.690085 \nL 374.45 137.690085 \n\" style=\"fill:none;stroke:#ffffff;stroke-linecap:round;\"/>\n     </g>\n     <g id=\"line2d_12\"/>\n     <g id=\"text_7\">\n      <!-- 600 -->\n      <g style=\"fill:#262626;\" transform=\"translate(13.5625 141.489304)scale(0.1 -0.1)\">\n       <defs>\n        <path d=\"M 32.71875 3.421875 \nQ 39.59375 3.421875 43.296875 8.46875 \nQ 47.015625 13.53125 47.015625 23 \nQ 47.015625 32.46875 43.296875 37.515625 \nQ 39.59375 42.578125 32.71875 42.578125 \nQ 25.734375 42.578125 22.0625 37.6875 \nQ 18.40625 32.8125 18.40625 23.578125 \nQ 18.40625 13.875 22.109375 8.640625 \nQ 25.828125 3.421875 32.71875 3.421875 \nz\nM 16.796875 40.140625 \nQ 20.125 43.796875 24.3125 45.59375 \nQ 28.515625 47.40625 33.796875 47.40625 \nQ 44.671875 47.40625 51 40.859375 \nQ 57.328125 34.328125 57.328125 23 \nQ 57.328125 11.921875 50.515625 5.25 \nQ 43.703125 -1.421875 32.328125 -1.421875 \nQ 19.96875 -1.421875 13.328125 7.78125 \nQ 6.6875 17 6.6875 34.078125 \nQ 6.6875 53.21875 14.546875 63.71875 \nQ 22.40625 74.21875 36.71875 74.21875 \nQ 40.578125 74.21875 44.828125 73.484375 \nQ 49.078125 72.75 53.515625 71.296875 \nL 53.515625 59.28125 \nL 48 59.28125 \nQ 47.40625 64.203125 44.234375 66.796875 \nQ 41.0625 69.390625 35.6875 69.390625 \nQ 26.21875 69.390625 21.578125 62.203125 \nQ 16.9375 55.03125 16.796875 40.140625 \nz\n\" id=\"DejaVuSerif-54\"/>\n       </defs>\n       <use xlink:href=\"#DejaVuSerif-54\"/>\n       <use x=\"63.623047\" xlink:href=\"#DejaVuSerif-48\"/>\n       <use x=\"127.246094\" xlink:href=\"#DejaVuSerif-48\"/>\n      </g>\n     </g>\n    </g>\n    <g id=\"ytick_5\">\n     <g id=\"line2d_13\">\n      <path clip-path=\"url(#pbbd7a956a8)\" d=\"M 39.65 108.70678 \nL 374.45 108.70678 \n\" style=\"fill:none;stroke:#ffffff;stroke-linecap:round;\"/>\n     </g>\n     <g id=\"line2d_14\"/>\n     <g id=\"text_8\">\n      <!-- 800 -->\n      <g style=\"fill:#262626;\" transform=\"translate(13.5625 112.505999)scale(0.1 -0.1)\">\n       <defs>\n        <path d=\"M 46.578125 19.921875 \nQ 46.578125 27.734375 42.6875 32.046875 \nQ 38.8125 36.375 31.78125 36.375 \nQ 24.75 36.375 20.875 32.046875 \nQ 17 27.734375 17 19.921875 \nQ 17 12.0625 20.875 7.734375 \nQ 24.75 3.421875 31.78125 3.421875 \nQ 38.8125 3.421875 42.6875 7.734375 \nQ 46.578125 12.0625 46.578125 19.921875 \nz\nM 44.578125 55.328125 \nQ 44.578125 61.96875 41.203125 65.671875 \nQ 37.84375 69.390625 31.78125 69.390625 \nQ 25.78125 69.390625 22.390625 65.671875 \nQ 19 61.96875 19 55.328125 \nQ 19 48.640625 22.390625 44.921875 \nQ 25.78125 41.21875 31.78125 41.21875 \nQ 37.84375 41.21875 41.203125 44.921875 \nQ 44.578125 48.640625 44.578125 55.328125 \nz\nM 39.3125 38.8125 \nQ 47.609375 37.703125 52.25 32.6875 \nQ 56.890625 27.6875 56.890625 19.921875 \nQ 56.890625 9.671875 50.390625 4.125 \nQ 43.890625 -1.421875 31.78125 -1.421875 \nQ 19.734375 -1.421875 13.203125 4.125 \nQ 6.6875 9.671875 6.6875 19.921875 \nQ 6.6875 27.6875 11.328125 32.6875 \nQ 15.96875 37.703125 24.3125 38.8125 \nQ 16.9375 40.140625 13 44.40625 \nQ 9.078125 48.6875 9.078125 55.328125 \nQ 9.078125 64.109375 15.125 69.15625 \nQ 21.1875 74.21875 31.78125 74.21875 \nQ 42.390625 74.21875 48.4375 69.15625 \nQ 54.5 64.109375 54.5 55.328125 \nQ 54.5 48.6875 50.5625 44.40625 \nQ 46.625 40.140625 39.3125 38.8125 \nz\n\" id=\"DejaVuSerif-56\"/>\n       </defs>\n       <use xlink:href=\"#DejaVuSerif-56\"/>\n       <use x=\"63.623047\" xlink:href=\"#DejaVuSerif-48\"/>\n       <use x=\"127.246094\" xlink:href=\"#DejaVuSerif-48\"/>\n      </g>\n     </g>\n    </g>\n    <g id=\"ytick_6\">\n     <g id=\"line2d_15\">\n      <path clip-path=\"url(#pbbd7a956a8)\" d=\"M 39.65 79.723475 \nL 374.45 79.723475 \n\" style=\"fill:none;stroke:#ffffff;stroke-linecap:round;\"/>\n     </g>\n     <g id=\"line2d_16\"/>\n     <g id=\"text_9\">\n      <!-- 1000 -->\n      <g style=\"fill:#262626;\" transform=\"translate(7.2 83.522694)scale(0.1 -0.1)\">\n       <use xlink:href=\"#DejaVuSerif-49\"/>\n       <use x=\"63.623047\" xlink:href=\"#DejaVuSerif-48\"/>\n       <use x=\"127.246094\" xlink:href=\"#DejaVuSerif-48\"/>\n       <use x=\"190.869141\" xlink:href=\"#DejaVuSerif-48\"/>\n      </g>\n     </g>\n    </g>\n    <g id=\"ytick_7\">\n     <g id=\"line2d_17\">\n      <path clip-path=\"url(#pbbd7a956a8)\" d=\"M 39.65 50.74017 \nL 374.45 50.74017 \n\" style=\"fill:none;stroke:#ffffff;stroke-linecap:round;\"/>\n     </g>\n     <g id=\"line2d_18\"/>\n     <g id=\"text_10\">\n      <!-- 1200 -->\n      <g style=\"fill:#262626;\" transform=\"translate(7.2 54.539389)scale(0.1 -0.1)\">\n       <use xlink:href=\"#DejaVuSerif-49\"/>\n       <use x=\"63.623047\" xlink:href=\"#DejaVuSerif-50\"/>\n       <use x=\"127.246094\" xlink:href=\"#DejaVuSerif-48\"/>\n       <use x=\"190.869141\" xlink:href=\"#DejaVuSerif-48\"/>\n      </g>\n     </g>\n    </g>\n    <g id=\"ytick_8\">\n     <g id=\"line2d_19\">\n      <path clip-path=\"url(#pbbd7a956a8)\" d=\"M 39.65 21.756865 \nL 374.45 21.756865 \n\" style=\"fill:none;stroke:#ffffff;stroke-linecap:round;\"/>\n     </g>\n     <g id=\"line2d_20\"/>\n     <g id=\"text_11\">\n      <!-- 1400 -->\n      <g style=\"fill:#262626;\" transform=\"translate(7.2 25.556084)scale(0.1 -0.1)\">\n       <use xlink:href=\"#DejaVuSerif-49\"/>\n       <use x=\"63.623047\" xlink:href=\"#DejaVuSerif-52\"/>\n       <use x=\"127.246094\" xlink:href=\"#DejaVuSerif-48\"/>\n       <use x=\"190.869141\" xlink:href=\"#DejaVuSerif-48\"/>\n      </g>\n     </g>\n    </g>\n   </g>\n   <g id=\"patch_3\">\n    <path clip-path=\"url(#pbbd7a956a8)\" d=\"M 81.5 224.64 \nL 165.2 224.64 \nL 165.2 25.379778 \nL 81.5 25.379778 \nz\n\" style=\"fill:#ff0000;\"/>\n   </g>\n   <g id=\"patch_4\">\n    <path clip-path=\"url(#pbbd7a956a8)\" d=\"M 248.9 224.64 \nL 332.6 224.64 \nL 332.6 17.554286 \nL 248.9 17.554286 \nz\n\" style=\"fill:#ff0000;\"/>\n   </g>\n   <g id=\"patch_5\">\n    <path d=\"M 39.65 224.64 \nL 39.65 7.2 \n\" style=\"fill:none;\"/>\n   </g>\n   <g id=\"patch_6\">\n    <path d=\"M 374.45 224.64 \nL 374.45 7.2 \n\" style=\"fill:none;\"/>\n   </g>\n   <g id=\"patch_7\">\n    <path d=\"M 39.65 224.64 \nL 374.45 224.64 \n\" style=\"fill:none;\"/>\n   </g>\n   <g id=\"patch_8\">\n    <path d=\"M 39.65 7.2 \nL 374.45 7.2 \n\" style=\"fill:none;\"/>\n   </g>\n  </g>\n </g>\n <defs>\n  <clipPath id=\"pbbd7a956a8\">\n   <rect height=\"217.44\" width=\"334.8\" x=\"39.65\" y=\"7.2\"/>\n  </clipPath>\n </defs>\n</svg>\n",
      "image/png": "[encoded data removed]"
     },
     "metadata": {
      "needs_background": "light"
     }
    }
   ],
   "source": [
    "fig = plt.figure()\n",
    "plot = df.groupby(['Target']).size().plot(kind='bar', color='red')\n",
    "plt.show()"
   ]
  },
  {
   "source": [
    "### EDA\n"
   ],
   "cell_type": "markdown",
   "metadata": {}
  },
  {
   "cell_type": "code",
   "execution_count": 238,
   "metadata": {},
   "outputs": [],
   "source": [
    "from pandas_profiling import ProfileReport"
   ]
  },
  {
   "cell_type": "code",
   "execution_count": 239,
   "metadata": {},
   "outputs": [
    {
     "output_type": "stream",
     "name": "stderr",
     "text": [
      "Summarize dataset: 100%|██████████| 24/24 [00:34<00:00,  1.42s/it, Completed]\n",
      "Generate report structure: 100%|██████████| 1/1 [00:06<00:00,  6.32s/it]\n",
      "Render HTML: 100%|██████████| 1/1 [00:04<00:00,  4.65s/it]\n",
      "Export report to file: 100%|██████████| 1/1 [00:00<00:00,  7.27it/s]\n"
     ]
    }
   ],
   "source": [
    "profile_cr = ProfileReport(df,title=\"Data Report\", dark_mode=True)\n",
    "# Export it to html file\n",
    "profile_cr.to_file(\"data_report.html\")"
   ]
  },
  {
   "source": [
    "### Splitting data"
   ],
   "cell_type": "markdown",
   "metadata": {}
  },
  {
   "cell_type": "code",
   "execution_count": 254,
   "metadata": {},
   "outputs": [],
   "source": [
    "#features\n",
    "X =  df.drop('Target',axis=1)\n",
    "#X = df[['STO_14','CHO',\"volume\",'return']] #No changes "
   ]
  },
  {
   "cell_type": "code",
   "execution_count": 255,
   "metadata": {},
   "outputs": [],
   "source": [
    "#target\n",
    "y = df[\"Target\"]"
   ]
  },
  {
   "cell_type": "code",
   "execution_count": 256,
   "metadata": {},
   "outputs": [],
   "source": [
    "train_size = int(0.7 * df.shape[0])\n",
    "X_train = X[:train_size]\n",
    "y_train = y[:train_size]\n",
    "X_test = X[train_size:]\n",
    "y_test = y[train_size:]"
   ]
  },
  {
   "source": [
    "### Model implementation"
   ],
   "cell_type": "markdown",
   "metadata": {}
  },
  {
   "cell_type": "code",
   "execution_count": 257,
   "metadata": {},
   "outputs": [],
   "source": [
    "from random import seed\n",
    "seed(101)"
   ]
  },
  {
   "cell_type": "code",
   "execution_count": 258,
   "metadata": {},
   "outputs": [],
   "source": [
    "from sklearn.tree import DecisionTreeClassifier\n",
    "from sklearn.metrics import accuracy_score"
   ]
  },
  {
   "cell_type": "code",
   "execution_count": 259,
   "metadata": {},
   "outputs": [],
   "source": [
    "dt = DecisionTreeClassifier(max_depth=3,random_state=1)"
   ]
  },
  {
   "cell_type": "code",
   "execution_count": 260,
   "metadata": {},
   "outputs": [
    {
     "output_type": "execute_result",
     "data": {
      "text/plain": [
       "DecisionTreeClassifier(max_depth=3, random_state=1)"
      ]
     },
     "metadata": {},
     "execution_count": 260
    }
   ],
   "source": [
    "dt.fit(X_train,y_train)"
   ]
  },
  {
   "cell_type": "code",
   "execution_count": 261,
   "metadata": {},
   "outputs": [],
   "source": [
    "y_pred = dt.predict(X_test)"
   ]
  },
  {
   "cell_type": "code",
   "execution_count": 262,
   "metadata": {},
   "outputs": [
    {
     "output_type": "execute_result",
     "data": {
      "text/plain": [
       "0.5273159144893111"
      ]
     },
     "metadata": {},
     "execution_count": 262
    }
   ],
   "source": [
    "accuracy_score(y_test, y_pred)"
   ]
  },
  {
   "cell_type": "code",
   "execution_count": 228,
   "metadata": {},
   "outputs": [
    {
     "output_type": "execute_result",
     "data": {
      "text/plain": [
       "1.0    803\n",
       "0.0     39\n",
       "dtype: int64"
      ]
     },
     "metadata": {},
     "execution_count": 228
    }
   ],
   "source": [
    "#MUnbalenced predictions\n",
    "pd.Series(y_pred).value_counts()"
   ]
  },
  {
   "cell_type": "code",
   "execution_count": null,
   "metadata": {},
   "outputs": [],
   "source": [
    "pd.Series(y_train).value_counts()"
   ]
  },
  {
   "cell_type": "code",
   "execution_count": null,
   "metadata": {},
   "outputs": [],
   "source": [
    "pd.Series(y_test).value_counts()"
   ]
  },
  {
   "cell_type": "code",
   "execution_count": 252,
   "metadata": {},
   "outputs": [
    {
     "output_type": "execute_result",
     "data": {
      "text/plain": [
       "Text(0.5, 0, 'Variable Importance')"
      ]
     },
     "metadata": {},
     "execution_count": 252
    },
    {
     "output_type": "display_data",
     "data": {
      "text/plain": "<Figure size 432x288 with 1 Axes>",
      "image/svg+xml": "<?xml version=\"1.0\" encoding=\"utf-8\" standalone=\"no\"?>\n<!DOCTYPE svg PUBLIC \"-//W3C//DTD SVG 1.1//EN\"\n  \"http://www.w3.org/Graphics/SVG/1.1/DTD/svg11.dtd\">\n<!-- Created with matplotlib (https://matplotlib.org/) -->\n<svg height=\"263.164062pt\" version=\"1.1\" viewBox=\"0 0 408.495361 263.164062\" width=\"408.495361pt\" xmlns=\"http://www.w3.org/2000/svg\" xmlns:xlink=\"http://www.w3.org/1999/xlink\">\n <metadata>\n  <rdf:RDF xmlns:cc=\"http://creativecommons.org/ns#\" xmlns:dc=\"http://purl.org/dc/elements/1.1/\" xmlns:rdf=\"http://www.w3.org/1999/02/22-rdf-syntax-ns#\">\n   <cc:Work>\n    <dc:type rdf:resource=\"http://purl.org/dc/dcmitype/StillImage\"/>\n    <dc:date>2021-06-16T01:35:08.280533</dc:date>\n    <dc:format>image/svg+xml</dc:format>\n    <dc:creator>\n     <cc:Agent>\n      <dc:title>Matplotlib v3.3.2, https://matplotlib.org/</dc:title>\n     </cc:Agent>\n    </dc:creator>\n   </cc:Work>\n  </rdf:RDF>\n </metadata>\n <defs>\n  <style type=\"text/css\">*{stroke-linecap:butt;stroke-linejoin:round;}</style>\n </defs>\n <g id=\"figure_1\">\n  <g id=\"patch_1\">\n   <path d=\"M 0 263.164062 \nL 408.495361 263.164062 \nL 408.495361 0 \nL 0 0 \nz\n\" style=\"fill:none;\"/>\n  </g>\n  <g id=\"axes_1\">\n   <g id=\"patch_2\">\n    <path d=\"M 60.532813 224.64 \nL 395.332812 224.64 \nL 395.332812 7.2 \nL 60.532813 7.2 \nz\n\" style=\"fill:#eaeaf2;\"/>\n   </g>\n   <g id=\"matplotlib.axis_1\">\n    <g id=\"xtick_1\">\n     <g id=\"line2d_1\">\n      <path clip-path=\"url(#p8a1e62da22)\" d=\"M 60.532813 224.64 \nL 60.532813 7.2 \n\" style=\"fill:none;stroke:#ffffff;stroke-linecap:round;\"/>\n     </g>\n     <g id=\"line2d_2\"/>\n     <g id=\"text_1\">\n      <!-- 0 -->\n      <g style=\"fill:#262626;\" transform=\"translate(57.351563 239.238438)scale(0.1 -0.1)\">\n       <defs>\n        <path d=\"M 31.78125 3.421875 \nQ 39.265625 3.421875 42.96875 11.625 \nQ 46.6875 19.828125 46.6875 36.375 \nQ 46.6875 52.984375 42.96875 61.1875 \nQ 39.265625 69.390625 31.78125 69.390625 \nQ 24.3125 69.390625 20.59375 61.1875 \nQ 16.890625 52.984375 16.890625 36.375 \nQ 16.890625 19.828125 20.59375 11.625 \nQ 24.3125 3.421875 31.78125 3.421875 \nz\nM 31.78125 -1.421875 \nQ 19.921875 -1.421875 13.25 8.53125 \nQ 6.59375 18.5 6.59375 36.375 \nQ 6.59375 54.296875 13.25 64.25 \nQ 19.921875 74.21875 31.78125 74.21875 \nQ 43.703125 74.21875 50.34375 64.25 \nQ 56.984375 54.296875 56.984375 36.375 \nQ 56.984375 18.5 50.34375 8.53125 \nQ 43.703125 -1.421875 31.78125 -1.421875 \nz\n\" id=\"DejaVuSerif-48\"/>\n       </defs>\n       <use xlink:href=\"#DejaVuSerif-48\"/>\n      </g>\n     </g>\n    </g>\n    <g id=\"xtick_2\">\n     <g id=\"line2d_3\">\n      <path clip-path=\"url(#p8a1e62da22)\" d=\"M 102.332819 224.64 \nL 102.332819 7.2 \n\" style=\"fill:none;stroke:#ffffff;stroke-linecap:round;\"/>\n     </g>\n     <g id=\"line2d_4\"/>\n     <g id=\"text_2\">\n      <!-- 5 -->\n      <g style=\"fill:#262626;\" transform=\"translate(99.151569 239.238438)scale(0.1 -0.1)\">\n       <defs>\n        <path d=\"M 50.296875 72.90625 \nL 50.296875 64.890625 \nL 16.890625 64.890625 \nL 16.890625 44 \nQ 19.4375 45.75 22.828125 46.625 \nQ 26.21875 47.515625 30.421875 47.515625 \nQ 42.234375 47.515625 49.0625 40.96875 \nQ 55.90625 34.421875 55.90625 23.09375 \nQ 55.90625 11.53125 49 5.046875 \nQ 42.09375 -1.421875 29.59375 -1.421875 \nQ 24.5625 -1.421875 19.28125 -0.1875 \nQ 14.015625 1.03125 8.5 3.515625 \nL 8.5 17.671875 \nL 14.015625 17.671875 \nQ 14.453125 10.75 18.421875 7.078125 \nQ 22.40625 3.421875 29.59375 3.421875 \nQ 37.3125 3.421875 41.453125 8.5 \nQ 45.609375 13.578125 45.609375 23.09375 \nQ 45.609375 32.5625 41.484375 37.609375 \nQ 37.359375 42.671875 29.59375 42.671875 \nQ 25.203125 42.671875 21.84375 41.109375 \nQ 18.5 39.546875 15.921875 36.28125 \nL 11.71875 36.28125 \nL 11.71875 72.90625 \nz\n\" id=\"DejaVuSerif-53\"/>\n       </defs>\n       <use xlink:href=\"#DejaVuSerif-53\"/>\n      </g>\n     </g>\n    </g>\n    <g id=\"xtick_3\">\n     <g id=\"line2d_5\">\n      <path clip-path=\"url(#p8a1e62da22)\" d=\"M 144.132825 224.64 \nL 144.132825 7.2 \n\" style=\"fill:none;stroke:#ffffff;stroke-linecap:round;\"/>\n     </g>\n     <g id=\"line2d_6\"/>\n     <g id=\"text_3\">\n      <!-- 10 -->\n      <g style=\"fill:#262626;\" transform=\"translate(137.770325 239.238438)scale(0.1 -0.1)\">\n       <defs>\n        <path d=\"M 14.203125 0 \nL 14.203125 5.171875 \nL 26.90625 5.171875 \nL 26.90625 65.828125 \nL 12.203125 56.296875 \nL 12.203125 62.703125 \nL 29.984375 74.21875 \nL 36.71875 74.21875 \nL 36.71875 5.171875 \nL 49.421875 5.171875 \nL 49.421875 0 \nz\n\" id=\"DejaVuSerif-49\"/>\n       </defs>\n       <use xlink:href=\"#DejaVuSerif-49\"/>\n       <use x=\"63.623047\" xlink:href=\"#DejaVuSerif-48\"/>\n      </g>\n     </g>\n    </g>\n    <g id=\"xtick_4\">\n     <g id=\"line2d_7\">\n      <path clip-path=\"url(#p8a1e62da22)\" d=\"M 185.932831 224.64 \nL 185.932831 7.2 \n\" style=\"fill:none;stroke:#ffffff;stroke-linecap:round;\"/>\n     </g>\n     <g id=\"line2d_8\"/>\n     <g id=\"text_4\">\n      <!-- 15 -->\n      <g style=\"fill:#262626;\" transform=\"translate(179.570331 239.238438)scale(0.1 -0.1)\">\n       <use xlink:href=\"#DejaVuSerif-49\"/>\n       <use x=\"63.623047\" xlink:href=\"#DejaVuSerif-53\"/>\n      </g>\n     </g>\n    </g>\n    <g id=\"xtick_5\">\n     <g id=\"line2d_9\">\n      <path clip-path=\"url(#p8a1e62da22)\" d=\"M 227.732837 224.64 \nL 227.732837 7.2 \n\" style=\"fill:none;stroke:#ffffff;stroke-linecap:round;\"/>\n     </g>\n     <g id=\"line2d_10\"/>\n     <g id=\"text_5\">\n      <!-- 20 -->\n      <g style=\"fill:#262626;\" transform=\"translate(221.370337 239.238438)scale(0.1 -0.1)\">\n       <defs>\n        <path d=\"M 12.796875 55.515625 \nL 7.328125 55.515625 \nL 7.328125 68.5 \nQ 12.546875 71.296875 17.84375 72.75 \nQ 23.140625 74.21875 28.21875 74.21875 \nQ 39.59375 74.21875 46.1875 68.703125 \nQ 52.78125 63.1875 52.78125 53.71875 \nQ 52.78125 43.015625 37.84375 28.125 \nQ 36.671875 27 36.078125 26.421875 \nL 17.671875 8.015625 \nL 48.09375 8.015625 \nL 48.09375 17 \nL 53.8125 17 \nL 53.8125 0 \nL 6.78125 0 \nL 6.78125 5.328125 \nL 28.90625 27.390625 \nQ 36.234375 34.71875 39.359375 40.84375 \nQ 42.484375 46.96875 42.484375 53.71875 \nQ 42.484375 61.078125 38.640625 65.234375 \nQ 34.8125 69.390625 28.078125 69.390625 \nQ 21.09375 69.390625 17.28125 65.921875 \nQ 13.484375 62.453125 12.796875 55.515625 \nz\n\" id=\"DejaVuSerif-50\"/>\n       </defs>\n       <use xlink:href=\"#DejaVuSerif-50\"/>\n       <use x=\"63.623047\" xlink:href=\"#DejaVuSerif-48\"/>\n      </g>\n     </g>\n    </g>\n    <g id=\"xtick_6\">\n     <g id=\"line2d_11\">\n      <path clip-path=\"url(#p8a1e62da22)\" d=\"M 269.532843 224.64 \nL 269.532843 7.2 \n\" style=\"fill:none;stroke:#ffffff;stroke-linecap:round;\"/>\n     </g>\n     <g id=\"line2d_12\"/>\n     <g id=\"text_6\">\n      <!-- 25 -->\n      <g style=\"fill:#262626;\" transform=\"translate(263.170343 239.238438)scale(0.1 -0.1)\">\n       <use xlink:href=\"#DejaVuSerif-50\"/>\n       <use x=\"63.623047\" xlink:href=\"#DejaVuSerif-53\"/>\n      </g>\n     </g>\n    </g>\n    <g id=\"xtick_7\">\n     <g id=\"line2d_13\">\n      <path clip-path=\"url(#p8a1e62da22)\" d=\"M 311.332849 224.64 \nL 311.332849 7.2 \n\" style=\"fill:none;stroke:#ffffff;stroke-linecap:round;\"/>\n     </g>\n     <g id=\"line2d_14\"/>\n     <g id=\"text_7\">\n      <!-- 30 -->\n      <g style=\"fill:#262626;\" transform=\"translate(304.970349 239.238438)scale(0.1 -0.1)\">\n       <defs>\n        <path d=\"M 9.71875 69.828125 \nQ 15.4375 71.96875 20.671875 73.09375 \nQ 25.921875 74.21875 30.515625 74.21875 \nQ 41.21875 74.21875 47.21875 69.59375 \nQ 53.21875 64.984375 53.21875 56.78125 \nQ 53.21875 50.203125 49.0625 45.78125 \nQ 44.921875 41.359375 37.3125 39.796875 \nQ 46.296875 38.53125 51.25 33.28125 \nQ 56.203125 28.03125 56.203125 19.671875 \nQ 56.203125 9.46875 49.34375 4.015625 \nQ 42.484375 -1.421875 29.59375 -1.421875 \nQ 23.875 -1.421875 18.421875 -0.1875 \nQ 12.984375 1.03125 7.625 3.515625 \nL 7.625 17.671875 \nL 13.09375 17.671875 \nQ 13.578125 10.640625 17.828125 7.03125 \nQ 22.078125 3.421875 29.78125 3.421875 \nQ 37.25 3.421875 41.578125 7.734375 \nQ 45.90625 12.0625 45.90625 19.578125 \nQ 45.90625 28.171875 41.453125 32.59375 \nQ 37.015625 37.015625 28.421875 37.015625 \nL 23.78125 37.015625 \nL 23.78125 42 \nL 26.21875 42 \nQ 34.765625 42 39.03125 45.53125 \nQ 43.3125 49.078125 43.3125 56.203125 \nQ 43.3125 62.59375 39.796875 65.984375 \nQ 36.28125 69.390625 29.6875 69.390625 \nQ 23.09375 69.390625 19.453125 66.265625 \nQ 15.828125 63.140625 15.1875 56.984375 \nL 9.71875 56.984375 \nz\n\" id=\"DejaVuSerif-51\"/>\n       </defs>\n       <use xlink:href=\"#DejaVuSerif-51\"/>\n       <use x=\"63.623047\" xlink:href=\"#DejaVuSerif-48\"/>\n      </g>\n     </g>\n    </g>\n    <g id=\"xtick_8\">\n     <g id=\"line2d_15\">\n      <path clip-path=\"url(#p8a1e62da22)\" d=\"M 353.132855 224.64 \nL 353.132855 7.2 \n\" style=\"fill:none;stroke:#ffffff;stroke-linecap:round;\"/>\n     </g>\n     <g id=\"line2d_16\"/>\n     <g id=\"text_8\">\n      <!-- 35 -->\n      <g style=\"fill:#262626;\" transform=\"translate(346.770355 239.238438)scale(0.1 -0.1)\">\n       <use xlink:href=\"#DejaVuSerif-51\"/>\n       <use x=\"63.623047\" xlink:href=\"#DejaVuSerif-53\"/>\n      </g>\n     </g>\n    </g>\n    <g id=\"xtick_9\">\n     <g id=\"line2d_17\">\n      <path clip-path=\"url(#p8a1e62da22)\" d=\"M 394.932861 224.64 \nL 394.932861 7.2 \n\" style=\"fill:none;stroke:#ffffff;stroke-linecap:round;\"/>\n     </g>\n     <g id=\"line2d_18\"/>\n     <g id=\"text_9\">\n      <!-- 40 -->\n      <g style=\"fill:#262626;\" transform=\"translate(388.570361 239.238438)scale(0.1 -0.1)\">\n       <defs>\n        <path d=\"M 34.90625 24.703125 \nL 34.90625 63.484375 \nL 10.015625 24.703125 \nz\nM 56.390625 0 \nL 23.1875 0 \nL 23.1875 5.171875 \nL 34.90625 5.171875 \nL 34.90625 19.484375 \nL 3.078125 19.484375 \nL 3.078125 24.8125 \nL 35.015625 74.21875 \nL 44.671875 74.21875 \nL 44.671875 24.703125 \nL 58.59375 24.703125 \nL 58.59375 19.484375 \nL 44.671875 19.484375 \nL 44.671875 5.171875 \nL 56.390625 5.171875 \nz\n\" id=\"DejaVuSerif-52\"/>\n       </defs>\n       <use xlink:href=\"#DejaVuSerif-52\"/>\n       <use x=\"63.623047\" xlink:href=\"#DejaVuSerif-48\"/>\n      </g>\n     </g>\n    </g>\n    <g id=\"text_10\">\n     <!-- Variable Importance -->\n     <g style=\"fill:#262626;\" transform=\"translate(171.016406 253.676406)scale(0.11 -0.11)\">\n      <defs>\n       <path d=\"M 17.484375 67.671875 \nL 39.015625 11.71875 \nL 60.5 67.671875 \nL 52.296875 67.671875 \nL 52.296875 72.90625 \nL 73.6875 72.90625 \nL 73.6875 67.671875 \nL 66.609375 67.671875 \nL 40.578125 0 \nL 32.171875 0 \nL 6.296875 67.671875 \nL -0.984375 67.671875 \nL -0.984375 72.90625 \nL 25.59375 72.90625 \nL 25.59375 67.671875 \nz\n\" id=\"DejaVuSerif-86\"/>\n       <path d=\"M 39.796875 16.3125 \nL 39.796875 27.296875 \nL 28.21875 27.296875 \nQ 21.53125 27.296875 18.25 24.40625 \nQ 14.984375 21.53125 14.984375 15.578125 \nQ 14.984375 10.15625 18.296875 6.984375 \nQ 21.625 3.8125 27.296875 3.8125 \nQ 32.90625 3.8125 36.34375 7.28125 \nQ 39.796875 10.75 39.796875 16.3125 \nz\nM 48.78125 32.421875 \nL 48.78125 5.171875 \nL 56.78125 5.171875 \nL 56.78125 0 \nL 39.796875 0 \nL 39.796875 5.609375 \nQ 36.8125 2 32.90625 0.28125 \nQ 29 -1.421875 23.78125 -1.421875 \nQ 15.140625 -1.421875 10.0625 3.171875 \nQ 4.984375 7.765625 4.984375 15.578125 \nQ 4.984375 23.640625 10.796875 28.078125 \nQ 16.609375 32.515625 27.203125 32.515625 \nL 39.796875 32.515625 \nL 39.796875 36.078125 \nQ 39.796875 42 36.203125 45.234375 \nQ 32.625 48.484375 26.125 48.484375 \nQ 20.75 48.484375 17.578125 46.046875 \nQ 14.40625 43.609375 13.625 38.8125 \nL 8.984375 38.8125 \nL 8.984375 49.3125 \nQ 13.671875 51.3125 18.09375 52.3125 \nQ 22.515625 53.328125 26.703125 53.328125 \nQ 37.5 53.328125 43.140625 47.96875 \nQ 48.78125 42.625 48.78125 32.421875 \nz\n\" id=\"DejaVuSerif-97\"/>\n       <path d=\"M 47.796875 52 \nL 47.796875 39.015625 \nL 42.625 39.015625 \nQ 42.390625 42.875 40.484375 44.78125 \nQ 38.578125 46.6875 34.90625 46.6875 \nQ 28.265625 46.6875 24.71875 42.09375 \nQ 21.1875 37.5 21.1875 28.90625 \nL 21.1875 5.171875 \nL 31.59375 5.171875 \nL 31.59375 0 \nL 4.109375 0 \nL 4.109375 5.171875 \nL 12.203125 5.171875 \nL 12.203125 46.78125 \nL 3.609375 46.78125 \nL 3.609375 51.90625 \nL 21.1875 51.90625 \nL 21.1875 42.671875 \nQ 23.828125 48.09375 27.96875 50.703125 \nQ 32.125 53.328125 38.09375 53.328125 \nQ 40.28125 53.328125 42.703125 52.984375 \nQ 45.125 52.640625 47.796875 52 \nz\n\" id=\"DejaVuSerif-114\"/>\n       <path d=\"M 9.71875 68.015625 \nQ 9.71875 70.265625 11.34375 71.921875 \nQ 12.984375 73.578125 15.28125 73.578125 \nQ 17.53125 73.578125 19.15625 71.921875 \nQ 20.796875 70.265625 20.796875 68.015625 \nQ 20.796875 65.71875 19.1875 64.109375 \nQ 17.578125 62.5 15.28125 62.5 \nQ 12.984375 62.5 11.34375 64.109375 \nQ 9.71875 65.71875 9.71875 68.015625 \nz\nM 21.1875 5.171875 \nL 29.6875 5.171875 \nL 29.6875 0 \nL 3.609375 0 \nL 3.609375 5.171875 \nL 12.203125 5.171875 \nL 12.203125 46.6875 \nL 3.609375 46.6875 \nL 3.609375 51.90625 \nL 21.1875 51.90625 \nz\n\" id=\"DejaVuSerif-105\"/>\n       <path d=\"M 11.53125 5.171875 \nL 11.53125 70.796875 \nL 2.875 70.796875 \nL 2.875 75.984375 \nL 20.515625 75.984375 \nL 20.515625 43.796875 \nQ 23.140625 48.6875 27.21875 51 \nQ 31.296875 53.328125 37.3125 53.328125 \nQ 46.875 53.328125 52.921875 45.75 \nQ 58.984375 38.1875 58.984375 25.984375 \nQ 58.984375 13.765625 52.921875 6.171875 \nQ 46.875 -1.421875 37.3125 -1.421875 \nQ 31.296875 -1.421875 27.21875 0.890625 \nQ 23.140625 3.21875 20.515625 8.109375 \nL 20.515625 0 \nL 2.875 0 \nL 2.875 5.171875 \nz\nM 20.515625 23.390625 \nQ 20.515625 14.015625 24.09375 9.109375 \nQ 27.6875 4.203125 34.515625 4.203125 \nQ 41.40625 4.203125 44.9375 9.71875 \nQ 48.484375 15.234375 48.484375 25.984375 \nQ 48.484375 36.765625 44.9375 42.234375 \nQ 41.40625 47.703125 34.515625 47.703125 \nQ 27.6875 47.703125 24.09375 42.765625 \nQ 20.515625 37.84375 20.515625 28.515625 \nz\n\" id=\"DejaVuSerif-98\"/>\n       <path d=\"M 20.515625 5.171875 \nL 29 5.171875 \nL 29 0 \nL 2.875 0 \nL 2.875 5.171875 \nL 11.53125 5.171875 \nL 11.53125 70.796875 \nL 2.875 70.796875 \nL 2.875 75.984375 \nL 20.515625 75.984375 \nz\n\" id=\"DejaVuSerif-108\"/>\n       <path d=\"M 54.203125 25 \nL 15.484375 25 \nL 15.484375 24.609375 \nQ 15.484375 14.109375 19.4375 8.765625 \nQ 23.390625 3.421875 31.109375 3.421875 \nQ 37.015625 3.421875 40.796875 6.515625 \nQ 44.578125 9.625 46.09375 15.71875 \nL 53.328125 15.71875 \nQ 51.171875 7.171875 45.375 2.875 \nQ 39.59375 -1.421875 30.171875 -1.421875 \nQ 18.796875 -1.421875 11.890625 6.078125 \nQ 4.984375 13.578125 4.984375 25.984375 \nQ 4.984375 38.28125 11.765625 45.796875 \nQ 18.5625 53.328125 29.59375 53.328125 \nQ 41.359375 53.328125 47.65625 46.0625 \nQ 53.953125 38.8125 54.203125 25 \nz\nM 43.609375 30.171875 \nQ 43.3125 39.265625 39.765625 43.875 \nQ 36.234375 48.484375 29.59375 48.484375 \nQ 23.390625 48.484375 19.828125 43.84375 \nQ 16.265625 39.203125 15.484375 30.171875 \nz\n\" id=\"DejaVuSerif-101\"/>\n       <path id=\"DejaVuSerif-32\"/>\n       <path d=\"M 24.703125 5.171875 \nL 33.984375 5.171875 \nL 33.984375 0 \nL 5.515625 0 \nL 5.515625 5.171875 \nL 14.796875 5.171875 \nL 14.796875 67.671875 \nL 5.515625 67.671875 \nL 5.515625 72.90625 \nL 33.984375 72.90625 \nL 33.984375 67.671875 \nL 24.703125 67.671875 \nz\n\" id=\"DejaVuSerif-73\"/>\n       <path d=\"M 51.8125 41.796875 \nQ 54.390625 47.515625 58.421875 50.421875 \nQ 62.453125 53.328125 67.828125 53.328125 \nQ 75.984375 53.328125 79.984375 48.265625 \nQ 83.984375 43.21875 83.984375 33.015625 \nL 83.984375 5.171875 \nL 92.09375 5.171875 \nL 92.09375 0 \nL 67.1875 0 \nL 67.1875 5.171875 \nL 75 5.171875 \nL 75 31.984375 \nQ 75 39.9375 72.65625 43.3125 \nQ 70.3125 46.6875 64.890625 46.6875 \nQ 58.890625 46.6875 55.734375 42.140625 \nQ 52.59375 37.59375 52.59375 28.90625 \nL 52.59375 5.171875 \nL 60.40625 5.171875 \nL 60.40625 0 \nL 35.796875 0 \nL 35.796875 5.171875 \nL 43.609375 5.171875 \nL 43.609375 32.328125 \nQ 43.609375 40.09375 41.265625 43.390625 \nQ 38.921875 46.6875 33.5 46.6875 \nQ 27.484375 46.6875 24.328125 42.140625 \nQ 21.1875 37.59375 21.1875 28.90625 \nL 21.1875 5.171875 \nL 29 5.171875 \nL 29 0 \nL 4.109375 0 \nL 4.109375 5.171875 \nL 12.203125 5.171875 \nL 12.203125 46.78125 \nL 3.609375 46.78125 \nL 3.609375 51.90625 \nL 21.1875 51.90625 \nL 21.1875 42.671875 \nQ 23.6875 47.859375 27.53125 50.59375 \nQ 31.390625 53.328125 36.28125 53.328125 \nQ 42.328125 53.328125 46.375 50.3125 \nQ 50.4375 47.3125 51.8125 41.796875 \nz\n\" id=\"DejaVuSerif-109\"/>\n       <path d=\"M 20.515625 28.515625 \nL 20.515625 23.390625 \nQ 20.515625 14.015625 24.09375 9.109375 \nQ 27.6875 4.203125 34.515625 4.203125 \nQ 41.40625 4.203125 44.9375 9.71875 \nQ 48.484375 15.234375 48.484375 25.984375 \nQ 48.484375 36.765625 44.9375 42.234375 \nQ 41.40625 47.703125 34.515625 47.703125 \nQ 27.6875 47.703125 24.09375 42.765625 \nQ 20.515625 37.84375 20.515625 28.515625 \nz\nM 11.53125 46.6875 \nL 2.875 46.6875 \nL 2.875 51.90625 \nL 20.515625 51.90625 \nL 20.515625 43.796875 \nQ 23.140625 48.6875 27.21875 51 \nQ 31.296875 53.328125 37.3125 53.328125 \nQ 46.875 53.328125 52.921875 45.75 \nQ 58.984375 38.1875 58.984375 25.984375 \nQ 58.984375 13.765625 52.921875 6.171875 \nQ 46.875 -1.421875 37.3125 -1.421875 \nQ 31.296875 -1.421875 27.21875 0.890625 \nQ 23.140625 3.21875 20.515625 8.109375 \nL 20.515625 -15.578125 \nL 29 -15.578125 \nL 29 -20.796875 \nL 2.875 -20.796875 \nL 2.875 -15.578125 \nL 11.53125 -15.578125 \nz\n\" id=\"DejaVuSerif-112\"/>\n       <path d=\"M 30.078125 3.421875 \nQ 37.3125 3.421875 40.984375 9.125 \nQ 44.671875 14.84375 44.671875 25.984375 \nQ 44.671875 37.109375 40.984375 42.796875 \nQ 37.3125 48.484375 30.078125 48.484375 \nQ 22.859375 48.484375 19.171875 42.796875 \nQ 15.484375 37.109375 15.484375 25.984375 \nQ 15.484375 14.84375 19.1875 9.125 \nQ 22.90625 3.421875 30.078125 3.421875 \nz\nM 30.078125 -1.421875 \nQ 18.75 -1.421875 11.859375 6.078125 \nQ 4.984375 13.578125 4.984375 25.984375 \nQ 4.984375 38.375 11.84375 45.84375 \nQ 18.703125 53.328125 30.078125 53.328125 \nQ 41.453125 53.328125 48.3125 45.84375 \nQ 55.171875 38.375 55.171875 25.984375 \nQ 55.171875 13.578125 48.3125 6.078125 \nQ 41.453125 -1.421875 30.078125 -1.421875 \nz\n\" id=\"DejaVuSerif-111\"/>\n       <path d=\"M 10.796875 46.6875 \nL 2.875 46.6875 \nL 2.875 51.90625 \nL 10.796875 51.90625 \nL 10.796875 68.015625 \nL 19.828125 68.015625 \nL 19.828125 51.90625 \nL 36.71875 51.90625 \nL 36.71875 46.6875 \nL 19.828125 46.6875 \nL 19.828125 13.71875 \nQ 19.828125 7.125 21.09375 5.265625 \nQ 22.359375 3.421875 25.78125 3.421875 \nQ 29.296875 3.421875 30.90625 5.484375 \nQ 32.515625 7.5625 32.625 12.203125 \nL 39.40625 12.203125 \nQ 39.015625 5.125 35.546875 1.84375 \nQ 32.078125 -1.421875 25 -1.421875 \nQ 17.234375 -1.421875 14.015625 2.015625 \nQ 10.796875 5.46875 10.796875 13.71875 \nz\n\" id=\"DejaVuSerif-116\"/>\n       <path d=\"M 4.109375 0 \nL 4.109375 5.171875 \nL 12.203125 5.171875 \nL 12.203125 46.6875 \nL 3.609375 46.6875 \nL 3.609375 51.90625 \nL 21.1875 51.90625 \nL 21.1875 42.671875 \nQ 23.6875 47.953125 27.65625 50.640625 \nQ 31.640625 53.328125 36.921875 53.328125 \nQ 45.515625 53.328125 49.5625 48.390625 \nQ 53.609375 43.453125 53.609375 33.015625 \nL 53.609375 5.171875 \nL 61.625 5.171875 \nL 61.625 0 \nL 36.8125 0 \nL 36.8125 5.171875 \nL 44.578125 5.171875 \nL 44.578125 30.171875 \nQ 44.578125 39.703125 42.234375 43.234375 \nQ 39.890625 46.78125 33.984375 46.78125 \nQ 27.734375 46.78125 24.453125 42.203125 \nQ 21.1875 37.640625 21.1875 28.90625 \nL 21.1875 5.171875 \nL 29 5.171875 \nL 29 0 \nz\n\" id=\"DejaVuSerif-110\"/>\n       <path d=\"M 51.421875 15.578125 \nQ 49.515625 7.28125 44.09375 2.921875 \nQ 38.671875 -1.421875 30.078125 -1.421875 \nQ 18.75 -1.421875 11.859375 6.078125 \nQ 4.984375 13.578125 4.984375 25.984375 \nQ 4.984375 38.421875 11.859375 45.875 \nQ 18.75 53.328125 30.078125 53.328125 \nQ 35.015625 53.328125 39.890625 52.171875 \nQ 44.78125 51.03125 49.703125 48.6875 \nL 49.703125 35.40625 \nL 44.484375 35.40625 \nQ 43.453125 42.234375 40.015625 45.359375 \nQ 36.578125 48.484375 30.171875 48.484375 \nQ 22.90625 48.484375 19.1875 42.84375 \nQ 15.484375 37.203125 15.484375 25.984375 \nQ 15.484375 14.75 19.171875 9.078125 \nQ 22.859375 3.421875 30.171875 3.421875 \nQ 35.984375 3.421875 39.453125 6.4375 \nQ 42.921875 9.46875 44.1875 15.578125 \nz\n\" id=\"DejaVuSerif-99\"/>\n      </defs>\n      <use xlink:href=\"#DejaVuSerif-86\"/>\n      <use x=\"63.091797\" xlink:href=\"#DejaVuSerif-97\"/>\n      <use x=\"122.710938\" xlink:href=\"#DejaVuSerif-114\"/>\n      <use x=\"170.513672\" xlink:href=\"#DejaVuSerif-105\"/>\n      <use x=\"202.496094\" xlink:href=\"#DejaVuSerif-97\"/>\n      <use x=\"262.115234\" xlink:href=\"#DejaVuSerif-98\"/>\n      <use x=\"326.128906\" xlink:href=\"#DejaVuSerif-108\"/>\n      <use x=\"358.111328\" xlink:href=\"#DejaVuSerif-101\"/>\n      <use x=\"417.291016\" xlink:href=\"#DejaVuSerif-32\"/>\n      <use x=\"449.078125\" xlink:href=\"#DejaVuSerif-73\"/>\n      <use x=\"488.580078\" xlink:href=\"#DejaVuSerif-109\"/>\n      <use x=\"583.404297\" xlink:href=\"#DejaVuSerif-112\"/>\n      <use x=\"647.417969\" xlink:href=\"#DejaVuSerif-111\"/>\n      <use x=\"707.623047\" xlink:href=\"#DejaVuSerif-114\"/>\n      <use x=\"755.425781\" xlink:href=\"#DejaVuSerif-116\"/>\n      <use x=\"795.611328\" xlink:href=\"#DejaVuSerif-97\"/>\n      <use x=\"855.230469\" xlink:href=\"#DejaVuSerif-110\"/>\n      <use x=\"919.634766\" xlink:href=\"#DejaVuSerif-99\"/>\n      <use x=\"975.640625\" xlink:href=\"#DejaVuSerif-101\"/>\n     </g>\n    </g>\n   </g>\n   <g id=\"matplotlib.axis_2\">\n    <g id=\"ytick_1\">\n     <g id=\"line2d_19\">\n      <path clip-path=\"url(#p8a1e62da22)\" d=\"M 60.532813 212.56 \nL 395.332812 212.56 \n\" style=\"fill:none;stroke:#ffffff;stroke-linecap:round;\"/>\n     </g>\n     <g id=\"line2d_20\"/>\n     <g id=\"text_11\">\n      <!-- open -->\n      <g style=\"fill:#262626;\" transform=\"translate(28.751563 216.359219)scale(0.1 -0.1)\">\n       <use xlink:href=\"#DejaVuSerif-111\"/>\n       <use x=\"60.205078\" xlink:href=\"#DejaVuSerif-112\"/>\n       <use x=\"124.21875\" xlink:href=\"#DejaVuSerif-101\"/>\n       <use x=\"183.398438\" xlink:href=\"#DejaVuSerif-110\"/>\n      </g>\n     </g>\n    </g>\n    <g id=\"ytick_2\">\n     <g id=\"line2d_21\">\n      <path clip-path=\"url(#p8a1e62da22)\" d=\"M 60.532813 188.4 \nL 395.332812 188.4 \n\" style=\"fill:none;stroke:#ffffff;stroke-linecap:round;\"/>\n     </g>\n     <g id=\"line2d_22\"/>\n     <g id=\"text_12\">\n      <!-- high -->\n      <g style=\"fill:#262626;\" transform=\"translate(31.051563 192.199219)scale(0.1 -0.1)\">\n       <defs>\n        <path d=\"M 4.109375 0 \nL 4.109375 5.171875 \nL 12.203125 5.171875 \nL 12.203125 70.796875 \nL 3.609375 70.796875 \nL 3.609375 75.984375 \nL 21.1875 75.984375 \nL 21.1875 42.671875 \nQ 23.6875 47.953125 27.65625 50.640625 \nQ 31.640625 53.328125 36.921875 53.328125 \nQ 45.515625 53.328125 49.5625 48.390625 \nQ 53.609375 43.453125 53.609375 33.015625 \nL 53.609375 5.171875 \nL 61.625 5.171875 \nL 61.625 0 \nL 36.8125 0 \nL 36.8125 5.171875 \nL 44.578125 5.171875 \nL 44.578125 30.171875 \nQ 44.578125 39.703125 42.25 43.1875 \nQ 39.9375 46.6875 33.984375 46.6875 \nQ 27.734375 46.6875 24.453125 42.140625 \nQ 21.1875 37.59375 21.1875 28.90625 \nL 21.1875 5.171875 \nL 29 5.171875 \nL 29 0 \nz\n\" id=\"DejaVuSerif-104\"/>\n        <path d=\"M 52.484375 46.6875 \nL 52.484375 1.125 \nQ 52.484375 -10.0625 46.328125 -16.140625 \nQ 40.1875 -22.21875 28.8125 -22.21875 \nQ 23.6875 -22.21875 19 -21.28125 \nQ 14.3125 -20.359375 10.015625 -18.5 \nL 10.015625 -7.625 \nL 14.703125 -7.625 \nQ 15.578125 -12.703125 18.84375 -15.046875 \nQ 22.125 -17.390625 28.21875 -17.390625 \nQ 36.140625 -17.390625 39.8125 -12.921875 \nQ 43.5 -8.453125 43.5 1.125 \nL 43.5 8.109375 \nQ 40.875 3.21875 36.796875 0.890625 \nQ 32.71875 -1.421875 26.703125 -1.421875 \nQ 17.140625 -1.421875 11.0625 6.171875 \nQ 4.984375 13.765625 4.984375 25.984375 \nQ 4.984375 38.1875 11.03125 45.75 \nQ 17.09375 53.328125 26.703125 53.328125 \nQ 32.71875 53.328125 36.796875 51 \nQ 40.875 48.6875 43.5 43.796875 \nL 43.5 51.90625 \nL 61.078125 51.90625 \nL 61.078125 46.6875 \nz\nM 43.5 28.515625 \nQ 43.5 37.84375 39.90625 42.765625 \nQ 36.328125 47.703125 29.5 47.703125 \nQ 22.5625 47.703125 19.015625 42.234375 \nQ 15.484375 36.765625 15.484375 25.984375 \nQ 15.484375 15.234375 19.015625 9.71875 \nQ 22.5625 4.203125 29.5 4.203125 \nQ 36.328125 4.203125 39.90625 9.109375 \nQ 43.5 14.015625 43.5 23.390625 \nz\n\" id=\"DejaVuSerif-103\"/>\n       </defs>\n       <use xlink:href=\"#DejaVuSerif-104\"/>\n       <use x=\"64.404297\" xlink:href=\"#DejaVuSerif-105\"/>\n       <use x=\"96.386719\" xlink:href=\"#DejaVuSerif-103\"/>\n       <use x=\"160.400391\" xlink:href=\"#DejaVuSerif-104\"/>\n      </g>\n     </g>\n    </g>\n    <g id=\"ytick_3\">\n     <g id=\"line2d_23\">\n      <path clip-path=\"url(#p8a1e62da22)\" d=\"M 60.532813 164.24 \nL 395.332812 164.24 \n\" style=\"fill:none;stroke:#ffffff;stroke-linecap:round;\"/>\n     </g>\n     <g id=\"line2d_24\"/>\n     <g id=\"text_13\">\n      <!-- low -->\n      <g style=\"fill:#262626;\" transform=\"translate(35.754688 168.039219)scale(0.1 -0.1)\">\n       <defs>\n        <path d=\"M 48 51.90625 \nL 61.28125 11.375 \nL 73 46.6875 \nL 65.484375 46.6875 \nL 65.484375 51.90625 \nL 84.28125 51.90625 \nL 84.28125 46.6875 \nL 78.515625 46.6875 \nL 63.09375 0 \nL 55.609375 0 \nL 42.828125 38.8125 \nL 29.984375 0 \nL 22.796875 0 \nL 7.421875 46.6875 \nL 1.609375 46.6875 \nL 1.609375 51.90625 \nL 25.09375 51.90625 \nL 25.09375 46.6875 \nL 16.703125 46.6875 \nL 28.328125 11.375 \nL 41.703125 51.90625 \nz\n\" id=\"DejaVuSerif-119\"/>\n       </defs>\n       <use xlink:href=\"#DejaVuSerif-108\"/>\n       <use x=\"31.982422\" xlink:href=\"#DejaVuSerif-111\"/>\n       <use x=\"92.1875\" xlink:href=\"#DejaVuSerif-119\"/>\n      </g>\n     </g>\n    </g>\n    <g id=\"ytick_4\">\n     <g id=\"line2d_25\">\n      <path clip-path=\"url(#p8a1e62da22)\" d=\"M 60.532813 140.08 \nL 395.332812 140.08 \n\" style=\"fill:none;stroke:#ffffff;stroke-linecap:round;\"/>\n     </g>\n     <g id=\"line2d_26\"/>\n     <g id=\"text_14\">\n      <!-- adj_close -->\n      <g style=\"fill:#262626;\" transform=\"translate(7.2 143.879219)scale(0.1 -0.1)\">\n       <defs>\n        <path d=\"M 52.484375 5.171875 \nL 61.078125 5.171875 \nL 61.078125 0 \nL 43.5 0 \nL 43.5 8.109375 \nQ 40.875 3.21875 36.796875 0.890625 \nQ 32.71875 -1.421875 26.703125 -1.421875 \nQ 17.140625 -1.421875 11.0625 6.171875 \nQ 4.984375 13.765625 4.984375 25.984375 \nQ 4.984375 38.1875 11.03125 45.75 \nQ 17.09375 53.328125 26.703125 53.328125 \nQ 32.71875 53.328125 36.796875 51 \nQ 40.875 48.6875 43.5 43.796875 \nL 43.5 70.796875 \nL 35.015625 70.796875 \nL 35.015625 75.984375 \nL 52.484375 75.984375 \nz\nM 43.5 23.390625 \nL 43.5 28.515625 \nQ 43.5 37.84375 39.90625 42.765625 \nQ 36.328125 47.703125 29.5 47.703125 \nQ 22.5625 47.703125 19.015625 42.234375 \nQ 15.484375 36.765625 15.484375 25.984375 \nQ 15.484375 15.234375 19.015625 9.71875 \nQ 22.5625 4.203125 29.5 4.203125 \nQ 36.328125 4.203125 39.90625 9.109375 \nQ 43.5 14.015625 43.5 23.390625 \nz\n\" id=\"DejaVuSerif-100\"/>\n        <path d=\"M 10.015625 68.015625 \nQ 10.015625 70.265625 11.640625 71.921875 \nQ 13.28125 73.578125 15.578125 73.578125 \nQ 17.828125 73.578125 19.453125 71.921875 \nQ 21.09375 70.265625 21.09375 68.015625 \nQ 21.09375 65.71875 19.5 64.109375 \nQ 17.921875 62.5 15.578125 62.5 \nQ 13.28125 62.5 11.640625 64.109375 \nQ 10.015625 65.71875 10.015625 68.015625 \nz\nM 12.203125 46.6875 \nL 3.71875 46.6875 \nL 3.71875 51.90625 \nL 21.1875 51.90625 \nL 21.1875 -5.078125 \nQ 21.1875 -13.09375 16.421875 -17.65625 \nQ 11.671875 -22.21875 3.328125 -22.21875 \nQ -0.203125 -22.21875 -3.390625 -21.40625 \nQ -6.59375 -20.609375 -9.625 -19 \nL -9.625 -8.296875 \nL -4.984375 -8.296875 \nQ -4.640625 -12.984375 -2.5625 -15.1875 \nQ -0.484375 -17.390625 3.515625 -17.390625 \nQ 7.953125 -17.390625 10.078125 -14.375 \nQ 12.203125 -11.375 12.203125 -5.078125 \nz\n\" id=\"DejaVuSerif-106\"/>\n        <path d=\"M 50 -19.671875 \nL 50 -23.578125 \nL 0 -23.578125 \nL 0 -19.671875 \nz\n\" id=\"DejaVuSerif-95\"/>\n        <path d=\"M 5.609375 2.875 \nL 5.609375 14.984375 \nL 10.796875 14.984375 \nQ 10.984375 9.1875 14.421875 6.296875 \nQ 17.875 3.421875 24.609375 3.421875 \nQ 30.671875 3.421875 33.84375 5.6875 \nQ 37.015625 7.953125 37.015625 12.3125 \nQ 37.015625 15.71875 34.6875 17.8125 \nQ 32.375 19.921875 24.90625 22.3125 \nL 18.40625 24.515625 \nQ 11.71875 26.65625 8.71875 29.875 \nQ 5.71875 33.109375 5.71875 38.09375 \nQ 5.71875 45.21875 10.9375 49.265625 \nQ 16.15625 53.328125 25.390625 53.328125 \nQ 29.5 53.328125 34.03125 52.25 \nQ 38.578125 51.171875 43.40625 49.125 \nL 43.40625 37.796875 \nL 38.234375 37.796875 \nQ 38.03125 42.828125 34.703125 45.65625 \nQ 31.390625 48.484375 25.6875 48.484375 \nQ 20.015625 48.484375 17.109375 46.484375 \nQ 14.203125 44.484375 14.203125 40.484375 \nQ 14.203125 37.203125 16.40625 35.21875 \nQ 18.609375 33.25 25.203125 31.203125 \nL 32.328125 29 \nQ 39.703125 26.703125 42.9375 23.265625 \nQ 46.1875 19.828125 46.1875 14.40625 \nQ 46.1875 7.03125 40.546875 2.796875 \nQ 34.90625 -1.421875 25 -1.421875 \nQ 19.96875 -1.421875 15.1875 -0.34375 \nQ 10.40625 0.734375 5.609375 2.875 \nz\n\" id=\"DejaVuSerif-115\"/>\n       </defs>\n       <use xlink:href=\"#DejaVuSerif-97\"/>\n       <use x=\"59.619141\" xlink:href=\"#DejaVuSerif-100\"/>\n       <use x=\"123.632812\" xlink:href=\"#DejaVuSerif-106\"/>\n       <use x=\"154.638672\" xlink:href=\"#DejaVuSerif-95\"/>\n       <use x=\"204.638672\" xlink:href=\"#DejaVuSerif-99\"/>\n       <use x=\"260.644531\" xlink:href=\"#DejaVuSerif-108\"/>\n       <use x=\"292.626953\" xlink:href=\"#DejaVuSerif-111\"/>\n       <use x=\"352.832031\" xlink:href=\"#DejaVuSerif-115\"/>\n       <use x=\"404.150391\" xlink:href=\"#DejaVuSerif-101\"/>\n      </g>\n     </g>\n    </g>\n    <g id=\"ytick_5\">\n     <g id=\"line2d_27\">\n      <path clip-path=\"url(#p8a1e62da22)\" d=\"M 60.532813 115.92 \nL 395.332812 115.92 \n\" style=\"fill:none;stroke:#ffffff;stroke-linecap:round;\"/>\n     </g>\n     <g id=\"line2d_28\"/>\n     <g id=\"text_15\">\n      <!-- RSI_14 -->\n      <g style=\"fill:#262626;\" transform=\"translate(17.478125 119.630938)scale(0.1 -0.1)\">\n       <defs>\n        <path d=\"M 47.90625 36.1875 \nQ 51.3125 35.25 53.78125 33.03125 \nQ 56.25 30.8125 58.203125 26.8125 \nL 68.796875 5.171875 \nL 77.6875 5.171875 \nL 77.6875 0 \nL 60.5 0 \nL 49.125 23.1875 \nQ 45.84375 29.9375 43.109375 31.90625 \nQ 40.375 33.890625 35.59375 33.890625 \nL 24.703125 33.890625 \nL 24.703125 5.171875 \nL 35.015625 5.171875 \nL 35.015625 0 \nL 5.515625 0 \nL 5.515625 5.171875 \nL 14.796875 5.171875 \nL 14.796875 67.671875 \nL 5.515625 67.671875 \nL 5.515625 72.90625 \nL 42.484375 72.90625 \nQ 53.125 72.90625 58.90625 67.828125 \nQ 64.703125 62.75 64.703125 53.421875 \nQ 64.703125 45.90625 60.46875 41.578125 \nQ 56.25 37.25 47.90625 36.1875 \nz\nM 24.703125 39.109375 \nL 39.109375 39.109375 \nQ 46.484375 39.109375 50 42.59375 \nQ 53.515625 46.09375 53.515625 53.421875 \nQ 53.515625 60.75 50 64.203125 \nQ 46.484375 67.671875 39.109375 67.671875 \nL 24.703125 67.671875 \nz\n\" id=\"DejaVuSerif-82\"/>\n        <path d=\"M 9.28125 3.515625 \nL 9.28125 20.125 \nL 14.890625 20.0625 \nQ 15.140625 11.765625 19.703125 7.78125 \nQ 24.265625 3.8125 33.59375 3.8125 \nQ 42.28125 3.8125 46.84375 7.25 \nQ 51.421875 10.6875 51.421875 17.28125 \nQ 51.421875 22.5625 48.65625 25.390625 \nQ 45.90625 28.21875 37.015625 30.90625 \nL 27.390625 33.796875 \nQ 16.9375 36.96875 12.671875 41.703125 \nQ 8.40625 46.4375 8.40625 54.6875 \nQ 8.40625 63.96875 14.984375 69.09375 \nQ 21.578125 74.21875 33.5 74.21875 \nQ 38.578125 74.21875 44.625 73.109375 \nQ 50.6875 72.015625 57.515625 69.921875 \nL 57.515625 54.390625 \nL 52 54.390625 \nQ 51.171875 62.109375 46.84375 65.546875 \nQ 42.53125 69 33.6875 69 \nQ 25.984375 69 21.953125 65.84375 \nQ 17.921875 62.703125 17.921875 56.6875 \nQ 17.921875 51.46875 20.9375 48.484375 \nQ 23.96875 45.515625 33.796875 42.578125 \nL 42.828125 39.890625 \nQ 52.734375 36.921875 56.953125 32.296875 \nQ 61.1875 27.6875 61.1875 19.921875 \nQ 61.1875 9.328125 54.390625 3.953125 \nQ 47.609375 -1.421875 34.1875 -1.421875 \nQ 28.171875 -1.421875 21.9375 -0.1875 \nQ 15.71875 1.03125 9.28125 3.515625 \nz\n\" id=\"DejaVuSerif-83\"/>\n       </defs>\n       <use xlink:href=\"#DejaVuSerif-82\"/>\n       <use x=\"75.292969\" xlink:href=\"#DejaVuSerif-83\"/>\n       <use x=\"143.798828\" xlink:href=\"#DejaVuSerif-73\"/>\n       <use x=\"183.300781\" xlink:href=\"#DejaVuSerif-95\"/>\n       <use x=\"233.300781\" xlink:href=\"#DejaVuSerif-49\"/>\n       <use x=\"296.923828\" xlink:href=\"#DejaVuSerif-52\"/>\n      </g>\n     </g>\n    </g>\n    <g id=\"ytick_6\">\n     <g id=\"line2d_29\">\n      <path clip-path=\"url(#p8a1e62da22)\" d=\"M 60.532813 91.76 \nL 395.332812 91.76 \n\" style=\"fill:none;stroke:#ffffff;stroke-linecap:round;\"/>\n     </g>\n     <g id=\"line2d_30\"/>\n     <g id=\"text_16\">\n      <!-- STO_14 -->\n      <g style=\"fill:#262626;\" transform=\"translate(14.089063 95.470937)scale(0.1 -0.1)\">\n       <defs>\n        <path d=\"M 19.09375 0 \nL 19.09375 5.171875 \nL 28.421875 5.171875 \nL 28.421875 67.09375 \nL 6.984375 67.09375 \nL 6.984375 55.71875 \nL 0.984375 55.71875 \nL 0.984375 72.90625 \nL 65.71875 72.90625 \nL 65.71875 55.71875 \nL 59.71875 55.71875 \nL 59.71875 67.09375 \nL 38.28125 67.09375 \nL 38.28125 5.171875 \nL 47.609375 5.171875 \nL 47.609375 0 \nz\n\" id=\"DejaVuSerif-84\"/>\n        <path d=\"M 41.015625 3.8125 \nQ 52.984375 3.8125 59.078125 12.03125 \nQ 65.1875 20.265625 65.1875 36.375 \nQ 65.1875 52.546875 59.078125 60.765625 \nQ 52.984375 69 41.015625 69 \nQ 29 69 22.890625 60.765625 \nQ 16.796875 52.546875 16.796875 36.375 \nQ 16.796875 20.265625 22.890625 12.03125 \nQ 29 3.8125 41.015625 3.8125 \nz\nM 41.015625 -1.421875 \nQ 33.59375 -1.421875 27.359375 1.015625 \nQ 21.140625 3.46875 16.40625 8.203125 \nQ 10.9375 13.671875 8.265625 20.609375 \nQ 5.609375 27.546875 5.609375 36.375 \nQ 5.609375 45.21875 8.265625 52.171875 \nQ 10.9375 59.125 16.40625 64.59375 \nQ 21.1875 69.390625 27.34375 71.796875 \nQ 33.5 74.21875 41.015625 74.21875 \nQ 56.890625 74.21875 66.65625 63.8125 \nQ 76.421875 53.421875 76.421875 36.375 \nQ 76.421875 27.640625 73.734375 20.625 \nQ 71.046875 13.625 65.578125 8.203125 \nQ 60.796875 3.421875 54.640625 1 \nQ 48.484375 -1.421875 41.015625 -1.421875 \nz\n\" id=\"DejaVuSerif-79\"/>\n       </defs>\n       <use xlink:href=\"#DejaVuSerif-83\"/>\n       <use x=\"68.505859\" xlink:href=\"#DejaVuSerif-84\"/>\n       <use x=\"135.205078\" xlink:href=\"#DejaVuSerif-79\"/>\n       <use x=\"217.1875\" xlink:href=\"#DejaVuSerif-95\"/>\n       <use x=\"267.1875\" xlink:href=\"#DejaVuSerif-49\"/>\n       <use x=\"330.810547\" xlink:href=\"#DejaVuSerif-52\"/>\n      </g>\n     </g>\n    </g>\n    <g id=\"ytick_7\">\n     <g id=\"line2d_31\">\n      <path clip-path=\"url(#p8a1e62da22)\" d=\"M 60.532813 67.6 \nL 395.332812 67.6 \n\" style=\"fill:none;stroke:#ffffff;stroke-linecap:round;\"/>\n     </g>\n     <g id=\"line2d_32\"/>\n     <g id=\"text_17\">\n      <!-- CHO -->\n      <g style=\"fill:#262626;\" transform=\"translate(28.9625 71.399219)scale(0.1 -0.1)\">\n       <defs>\n        <path d=\"M 70.515625 19.28125 \nQ 67.28125 9.078125 59.6875 3.828125 \nQ 52.09375 -1.421875 40.484375 -1.421875 \nQ 33.34375 -1.421875 27.234375 1.015625 \nQ 21.140625 3.46875 16.40625 8.203125 \nQ 10.9375 13.671875 8.265625 20.625 \nQ 5.609375 27.59375 5.609375 36.375 \nQ 5.609375 53.375 15.421875 63.796875 \nQ 25.25 74.21875 41.3125 74.21875 \nQ 47.265625 74.21875 54 72.65625 \nQ 60.75 71.09375 68.5 67.921875 \nL 68.5 51.125 \nL 62.984375 51.125 \nQ 61.1875 60.296875 55.734375 64.640625 \nQ 50.296875 69 40.484375 69 \nQ 28.8125 69 22.796875 60.71875 \nQ 16.796875 52.4375 16.796875 36.375 \nQ 16.796875 20.359375 22.796875 12.078125 \nQ 28.8125 3.8125 40.484375 3.8125 \nQ 48.640625 3.8125 53.90625 7.6875 \nQ 59.1875 11.578125 61.53125 19.28125 \nz\n\" id=\"DejaVuSerif-67\"/>\n        <path d=\"M 5.515625 0 \nL 5.515625 5.171875 \nL 14.796875 5.171875 \nL 14.796875 67.671875 \nL 5.515625 67.671875 \nL 5.515625 72.90625 \nL 33.984375 72.90625 \nL 33.984375 67.671875 \nL 24.703125 67.671875 \nL 24.703125 42.484375 \nL 62.5 42.484375 \nL 62.5 67.671875 \nL 53.21875 67.671875 \nL 53.21875 72.90625 \nL 81.6875 72.90625 \nL 81.6875 67.671875 \nL 72.40625 67.671875 \nL 72.40625 5.171875 \nL 81.6875 5.171875 \nL 81.6875 0 \nL 53.21875 0 \nL 53.21875 5.171875 \nL 62.5 5.171875 \nL 62.5 36.53125 \nL 24.703125 36.53125 \nL 24.703125 5.171875 \nL 33.984375 5.171875 \nL 33.984375 0 \nz\n\" id=\"DejaVuSerif-72\"/>\n       </defs>\n       <use xlink:href=\"#DejaVuSerif-67\"/>\n       <use x=\"76.513672\" xlink:href=\"#DejaVuSerif-72\"/>\n       <use x=\"163.720703\" xlink:href=\"#DejaVuSerif-79\"/>\n      </g>\n     </g>\n    </g>\n    <g id=\"ytick_8\">\n     <g id=\"line2d_33\">\n      <path clip-path=\"url(#p8a1e62da22)\" d=\"M 60.532813 43.44 \nL 395.332812 43.44 \n\" style=\"fill:none;stroke:#ffffff;stroke-linecap:round;\"/>\n     </g>\n     <g id=\"line2d_34\"/>\n     <g id=\"text_18\">\n      <!-- volume -->\n      <g style=\"fill:#262626;\" transform=\"translate(16.821875 47.239219)scale(0.1 -0.1)\">\n       <defs>\n        <path d=\"M 24.703125 0 \nL 5.609375 46.6875 \nL -0.296875 46.6875 \nL -0.296875 51.90625 \nL 23.578125 51.90625 \nL 23.578125 46.6875 \nL 15.28125 46.6875 \nL 29.890625 10.984375 \nL 44.484375 46.6875 \nL 36.71875 46.6875 \nL 36.71875 51.90625 \nL 56.203125 51.90625 \nL 56.203125 46.6875 \nL 50.390625 46.6875 \nL 31.296875 0 \nz\n\" id=\"DejaVuSerif-118\"/>\n        <path d=\"M 35.40625 51.90625 \nL 52.203125 51.90625 \nL 52.203125 5.171875 \nL 60.6875 5.171875 \nL 60.6875 0 \nL 43.21875 0 \nL 43.21875 9.1875 \nQ 40.71875 4 36.765625 1.28125 \nQ 32.8125 -1.421875 27.59375 -1.421875 \nQ 18.953125 -1.421875 14.875 3.484375 \nQ 10.796875 8.40625 10.796875 18.890625 \nL 10.796875 46.6875 \nL 2.6875 46.6875 \nL 2.6875 51.90625 \nL 19.828125 51.90625 \nL 19.828125 21.6875 \nQ 19.828125 12.203125 22.140625 8.6875 \nQ 24.46875 5.171875 30.421875 5.171875 \nQ 36.671875 5.171875 39.9375 9.765625 \nQ 43.21875 14.359375 43.21875 23.09375 \nL 43.21875 46.6875 \nL 35.40625 46.6875 \nz\n\" id=\"DejaVuSerif-117\"/>\n       </defs>\n       <use xlink:href=\"#DejaVuSerif-118\"/>\n       <use x=\"56.494141\" xlink:href=\"#DejaVuSerif-111\"/>\n       <use x=\"116.699219\" xlink:href=\"#DejaVuSerif-108\"/>\n       <use x=\"148.681641\" xlink:href=\"#DejaVuSerif-117\"/>\n       <use x=\"213.085938\" xlink:href=\"#DejaVuSerif-109\"/>\n       <use x=\"307.910156\" xlink:href=\"#DejaVuSerif-101\"/>\n      </g>\n     </g>\n    </g>\n    <g id=\"ytick_9\">\n     <g id=\"line2d_35\">\n      <path clip-path=\"url(#p8a1e62da22)\" d=\"M 60.532813 19.28 \nL 395.332812 19.28 \n\" style=\"fill:none;stroke:#ffffff;stroke-linecap:round;\"/>\n     </g>\n     <g id=\"line2d_36\"/>\n     <g id=\"text_19\">\n      <!-- return -->\n      <g style=\"fill:#262626;\" transform=\"translate(21.154688 23.079219)scale(0.1 -0.1)\">\n       <use xlink:href=\"#DejaVuSerif-114\"/>\n       <use x=\"47.802734\" xlink:href=\"#DejaVuSerif-101\"/>\n       <use x=\"106.982422\" xlink:href=\"#DejaVuSerif-116\"/>\n       <use x=\"147.167969\" xlink:href=\"#DejaVuSerif-117\"/>\n       <use x=\"211.572266\" xlink:href=\"#DejaVuSerif-114\"/>\n       <use x=\"259.375\" xlink:href=\"#DejaVuSerif-110\"/>\n      </g>\n     </g>\n    </g>\n   </g>\n   <g id=\"patch_3\">\n    <path clip-path=\"url(#p8a1e62da22)\" d=\"M 60.532813 218.6 \nL 60.532813 218.6 \nL 60.532813 206.52 \nL 60.532813 206.52 \nz\n\" style=\"fill:#ff0000;\"/>\n   </g>\n   <g id=\"patch_4\">\n    <path clip-path=\"url(#p8a1e62da22)\" d=\"M 60.532813 194.44 \nL 60.532813 194.44 \nL 60.532813 182.36 \nL 60.532813 182.36 \nz\n\" style=\"fill:#ff0000;\"/>\n   </g>\n   <g id=\"patch_5\">\n    <path clip-path=\"url(#p8a1e62da22)\" d=\"M 60.532813 170.28 \nL 60.532813 170.28 \nL 60.532813 158.2 \nL 60.532813 158.2 \nz\n\" style=\"fill:#ff0000;\"/>\n   </g>\n   <g id=\"patch_6\">\n    <path clip-path=\"url(#p8a1e62da22)\" d=\"M 60.532813 146.12 \nL 60.532813 146.12 \nL 60.532813 134.04 \nL 60.532813 134.04 \nz\n\" style=\"fill:#ff0000;\"/>\n   </g>\n   <g id=\"patch_7\">\n    <path clip-path=\"url(#p8a1e62da22)\" d=\"M 60.532813 121.96 \nL 60.532813 121.96 \nL 60.532813 109.88 \nL 60.532813 109.88 \nz\n\" style=\"fill:#ff0000;\"/>\n   </g>\n   <g id=\"patch_8\">\n    <path clip-path=\"url(#p8a1e62da22)\" d=\"M 60.532813 97.8 \nL 161.073491 97.8 \nL 161.073491 85.72 \nL 60.532813 85.72 \nz\n\" style=\"fill:#ff0000;\"/>\n   </g>\n   <g id=\"patch_9\">\n    <path clip-path=\"url(#p8a1e62da22)\" d=\"M 60.532813 73.64 \nL 170.088935 73.64 \nL 170.088935 61.56 \nL 60.532813 61.56 \nz\n\" style=\"fill:#ff0000;\"/>\n   </g>\n   <g id=\"patch_10\">\n    <path clip-path=\"url(#p8a1e62da22)\" d=\"M 60.532813 49.48 \nL 367.57899 49.48 \nL 367.57899 37.4 \nL 60.532813 37.4 \nz\n\" style=\"fill:#ff0000;\"/>\n   </g>\n   <g id=\"patch_11\">\n    <path clip-path=\"url(#p8a1e62da22)\" d=\"M 60.532813 25.32 \nL 379.389955 25.32 \nL 379.389955 13.24 \nL 60.532813 13.24 \nz\n\" style=\"fill:#ff0000;\"/>\n   </g>\n   <g id=\"patch_12\">\n    <path d=\"M 60.532813 224.64 \nL 60.532813 7.2 \n\" style=\"fill:none;\"/>\n   </g>\n   <g id=\"patch_13\">\n    <path d=\"M 395.332812 224.64 \nL 395.332812 7.2 \n\" style=\"fill:none;\"/>\n   </g>\n   <g id=\"patch_14\">\n    <path d=\"M 60.532813 224.64 \nL 395.332812 224.64 \n\" style=\"fill:none;\"/>\n   </g>\n   <g id=\"patch_15\">\n    <path d=\"M 60.532813 7.2 \nL 395.332812 7.2 \n\" style=\"fill:none;\"/>\n   </g>\n   <g id=\"legend_1\">\n    <g id=\"patch_16\">\n     <path d=\"M 69.532813 213.560313 \nL 89.532813 213.560313 \nL 89.532813 206.560313 \nL 69.532813 206.560313 \nz\n\" style=\"fill:#ff0000;\"/>\n    </g>\n    <g id=\"text_20\">\n     <!-- Importance -->\n     <g style=\"fill:#262626;\" transform=\"translate(97.532813 213.560313)scale(0.1 -0.1)\">\n      <use xlink:href=\"#DejaVuSerif-73\"/>\n      <use x=\"39.501953\" xlink:href=\"#DejaVuSerif-109\"/>\n      <use x=\"134.326172\" xlink:href=\"#DejaVuSerif-112\"/>\n      <use x=\"198.339844\" xlink:href=\"#DejaVuSerif-111\"/>\n      <use x=\"258.544922\" xlink:href=\"#DejaVuSerif-114\"/>\n      <use x=\"306.347656\" xlink:href=\"#DejaVuSerif-116\"/>\n      <use x=\"346.533203\" xlink:href=\"#DejaVuSerif-97\"/>\n      <use x=\"406.152344\" xlink:href=\"#DejaVuSerif-110\"/>\n      <use x=\"470.556641\" xlink:href=\"#DejaVuSerif-99\"/>\n      <use x=\"526.5625\" xlink:href=\"#DejaVuSerif-101\"/>\n     </g>\n    </g>\n   </g>\n  </g>\n </g>\n <defs>\n  <clipPath id=\"p8a1e62da22\">\n   <rect height=\"217.44\" width=\"334.8\" x=\"60.532813\" y=\"7.2\"/>\n  </clipPath>\n </defs>\n</svg>\n",
      "image/png": "[encoded data removed]"
     },
     "metadata": {
      "needs_background": "light"
     }
    }
   ],
   "source": [
    "Importance = pd.DataFrame({'Importance':dt.feature_importances_*100},\\\n",
    "index=X.columns)\n",
    "Importance.sort_values('Importance', axis=0, ascending=True).plot(kind='barh', \\\n",
    "color='r' )\n",
    "plt.xlabel('Variable Importance')"
   ]
  },
  {
   "source": [
    "## Checking the return of an strategy based on the model decision"
   ],
   "cell_type": "markdown",
   "metadata": {}
  },
  {
   "cell_type": "code",
   "execution_count": null,
   "metadata": {},
   "outputs": [],
   "source": []
  }
 ]
}